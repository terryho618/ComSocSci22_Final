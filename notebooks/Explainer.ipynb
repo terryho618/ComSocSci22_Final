{
 "cells": [
  {
   "cell_type": "markdown",
   "metadata": {},
   "source": [
    "# 1. Introduction"
   ]
  },
  {
   "cell_type": "code",
   "execution_count": 1,
   "metadata": {},
   "outputs": [
    {
     "name": "stderr",
     "output_type": "stream",
     "text": [
      "[nltk_data] Downloading package punkt to\n",
      "[nltk_data]     C:\\Users\\Anders\\AppData\\Roaming\\nltk_data...\n",
      "[nltk_data]   Package punkt is already up-to-date!\n",
      "[nltk_data] Downloading package stopwords to\n",
      "[nltk_data]     C:\\Users\\Anders\\AppData\\Roaming\\nltk_data...\n",
      "[nltk_data]   Package stopwords is already up-to-date!\n"
     ]
    }
   ],
   "source": [
    "from functools import partial\n",
    "from langid import langid\n",
    "from konlpy.tag import Okt as Tag\n",
    "from string import punctuation\n",
    "from multiprocessing.pool import ThreadPool as Pool\n",
    "from lyricsgenius import Genius\n",
    "import regex as re\n",
    "from tqdm import tqdm\n",
    "from datetime import datetime\n",
    "from time import sleep\n",
    "from typing import Tuple\n",
    "import tekore as tk\n",
    "import urllib\n",
    "import numpy as np\n",
    "import pandas as pd\n",
    "from matplotlib import pyplot as plt\n",
    "from wordcloud import WordCloud\n",
    "from collections import defaultdict, Counter\n",
    "import nltk\n",
    "nltk.download('punkt')\n",
    "nltk.download('stopwords')\n",
    "from nltk.corpus import stopwords\n",
    "from nltk.tokenize import word_tokenize #For languages that predominantly use spaces\n",
    "from labMTsimple.storyLab import emotionFileReader\n",
    "import networkx as nx\n",
    "from networkx.algorithms.community.louvain import modularity, louvain_communities\n",
    "import netwulf as nw\n",
    "import random\n",
    "import pickle as pkl\n",
    "\n",
    "class Song:\n",
    "    def __init__(self, ts, title, artists, id):\n",
    "        self.title = title\n",
    "        self.artists_raw = list(artists)\n",
    "        self.artists = \", \".join(self.artists_raw)\n",
    "        self.id = id\n",
    "        self.ts = datetime.utcfromtimestamp(int(ts))\n",
    "        self.a_n_t = f\"{self.artists} - {self.title}\"\n",
    "\n",
    "    def __str__(self):\n",
    "        return self.a_n_t\n",
    "\n",
    "    def __repr__(self):\n",
    "        return str(self)\n",
    "\n",
    "    def __hash__(self):\n",
    "        return hash(self.__repr__())\n",
    "\n",
    "    def __eq__(self, other):\n",
    "        return self.a_n_t.lower() == other.a_n_t.lower() or self.id == other.id\n",
    "    \n",
    "def song_from_track(t):\n",
    "\treturn Song(0, t.name, map(lambda x: x.name, t.artists), t.id)\n",
    "\n",
    "conf = tk.config_from_file(\"../tekore.conf\", return_refresh=True)\n",
    "client_id, client_secret, redirect_uri, user_refresh = conf\n",
    "token = tk.refresh_user_token(client_id, client_secret, user_refresh)\n",
    "sender = tk.RetryingSender(sender=tk.SyncSender())\n",
    "spotify = tk.Spotify(token, sender=sender, max_limits_on=True, chunked_on=True)\n",
    "current_user = spotify.current_user()\n",
    "\n",
    "genius = Genius(\"KEFn0L8xkvDMGZive3aIXMuE6TB0aF2QwrWMDnhSdD_PEa9S_9129vPB38T-VKfb\")\n",
    "genius.verbose = False\n",
    "genius.skip_non_songs = True"
   ]
  },
  {
   "cell_type": "markdown",
   "metadata": {},
   "source": [
    "# 2. Motivation"
   ]
  },
  {
   "cell_type": "markdown",
   "metadata": {},
   "source": [
    "## 2.1. Dataset"
   ]
  },
  {
   "cell_type": "markdown",
   "metadata": {},
   "source": [
    "### 2.1.1. Spotify API"
   ]
  },
  {
   "cell_type": "markdown",
   "metadata": {},
   "source": [
    "### 2.1.2. Everynoise.com"
   ]
  },
  {
   "cell_type": "markdown",
   "metadata": {},
   "source": [
    "### 2.1.3. Genius API"
   ]
  },
  {
   "cell_type": "markdown",
   "metadata": {},
   "source": [
    "## 2.2. Analysis and Goal"
   ]
  },
  {
   "cell_type": "markdown",
   "metadata": {},
   "source": [
    "# 3. Data Acquisition and Stats"
   ]
  },
  {
   "cell_type": "markdown",
   "metadata": {},
   "source": [
    "This section will both include the methods of data acquisition and stats regarding the data in the order it is retrieved.\n",
    "\n",
    "To see how all the data is acquired, in each step the artist \"Taylor Swift\" will be used to show outputs of each step."
   ]
  },
  {
   "cell_type": "markdown",
   "metadata": {},
   "source": [
    "## 3.1. Spotify + Everynoise.com Data"
   ]
  },
  {
   "cell_type": "markdown",
   "metadata": {},
   "source": [
    "The first thing we want to acquire is general information about the artists on which we will be basing the analysis. Below is the code for acquiring the artists from the Spotify API directly and then for scraping the genres from Everynoise.com."
   ]
  },
  {
   "cell_type": "code",
   "execution_count": 2,
   "metadata": {},
   "outputs": [],
   "source": [
    "#Code to obtain HTML of a site.\n",
    "def get_site(URL):\n",
    "\t#print(\"Loading...\")\n",
    "\thtml = ''\n",
    "\ttry:\n",
    "\t\thtml = urllib.request.urlopen(URL).read()\n",
    "\texcept Exception as e:\n",
    "\t\tprint(\"Unexpected Error: \", e, \" with url: \", URL)\n",
    "\t#print(\"Done.\")\n",
    "\treturn html\n",
    "\n",
    "#Code to obtain genres of the artist directly through the url.\n",
    "def getGenresOfName(name: str):\n",
    "\tURL = f\"http://everynoise.com/lookup.cgi?who={urllib.parse.quote(name)}\"\n",
    "\thtml = str(get_site(URL))\n",
    "\tgenres = re.findall('t>([A-z0-9- ]*)<', html)\n",
    "\treturn genres\n",
    "\n",
    "try: #Load if not ran before\n",
    "    with open('../data/artists.pkl', 'rb') as f:\n",
    "        artists = pkl.load(f)\n",
    "except:\n",
    "    #Start off with some playlists.\n",
    "    playlists = [\"275YVJvF53dkyJtJLk9rfn\",\"0qWfVDFyF0Tj7wjhxkN1kJ\",\"2qJJIA8WyjzUwLkTlb0C0e\", \"0hYDNLOLfEnzOqzbM9Okj2\"]\n",
    "    songs = []\n",
    "    for plst in playlists:\n",
    "        songs += list(spotify.all_items(spotify.playlist(plst, market=\"from_token\").tracks))\n",
    "        \n",
    "    artists = {}\n",
    "\n",
    "    #Add the predetermined songs to the dictionary.\n",
    "    for s in songs:\n",
    "        for a in s.track.artists:\n",
    "            artists[a.name] = {}\n",
    "            artists[a.name]['id'] = a.id\n",
    "            artists[a.name]['separation'] = 1\n",
    "            artists[a.name]['genres'] = getGenresOfName(a.name)\n",
    "            \n",
    "    artists_checked = set()\n",
    "    artist_related = defaultdict(lambda:[])\n",
    "\n",
    "    #Step through each depth\n",
    "    for i in range(3):\n",
    "        next_degree_artists = []\n",
    "        for a,data in tqdm(list(artists.items())):\n",
    "            if data['id'] is None or data['id'] in artists_checked:\n",
    "                continue\n",
    "            try:\n",
    "                for a2 in spotify.artist_related_artists(data['id']):\n",
    "                    artist_related[a].append(a2.name)\n",
    "                    if a2.id in artists_checked:\n",
    "                        continue\n",
    "                    artists[a2.name] = {}\n",
    "                    artists[a2.name]['separation'] = artsts[a]['separation']+1\n",
    "                    artists[a2.name]['genres'] = getGenresOfName(a2.name)\n",
    "                    next_degree_artists.append(artists[a2.name])\n",
    "            except KeyboardInterrupt:\n",
    "                break\n",
    "            except Exception as e:\n",
    "                print(\"Fail on \", a, data['id'])\n",
    "                print(e)\n",
    "                continue\n",
    "            artists_checked.add(data['id'])\n",
    "            #sleep(0.1)\n",
    "        artists.update(next_degree_artists)"
   ]
  },
  {
   "cell_type": "markdown",
   "metadata": {},
   "source": [
    "To start off the data, some playlists are chosen as a starting point for the artists.\n",
    "Since there is a rate limit of the Spotify API, the data will only be acquired to a depth of 3.\n",
    "For each depth the above for loop goes through each artist and checks if they have been passed through the API.\n",
    "If not, then the API is requested to retrieve all related artists.\n",
    "\n",
    "Below shows the example of retrieving the related artists for \"Taylor Swift\":\n",
    "\n",
    "She has ID: \"06HL4z0CvFAxyc27GXpf02\""
   ]
  },
  {
   "cell_type": "code",
   "execution_count": 3,
   "metadata": {},
   "outputs": [
    {
     "name": "stdout",
     "output_type": "stream",
     "text": [
      "1.\tDemi Lovato              \twith ID 6S2OmqARrzebs0tKUEyXyp\n",
      "2.\tAlessia Cara             \twith ID 2wUjUUtkb5lvLKcGKsKqsR\n",
      "3.\tLorde                    \twith ID 163tK9Wjr9P9DmM0AVK7lm\n",
      "4.\tSelena Gomez             \twith ID 0C8ZW7ezQVs4URX5aX7Kqx\n",
      "5.\tTroye Sivan              \twith ID 3WGpXCj9YhhfX11TToZcXP\n",
      "6.\tZAYN                     \twith ID 5ZsFI1h6hIdQRw2ti0hz81\n",
      "7.\tMiley Cyrus              \twith ID 5YGY8feqx7naU7z4HrwZM6\n",
      "8.\tFifth Harmony            \twith ID 1l8Fu6IkuTP0U5QetQJ5Xt\n",
      "9.\tNiall Horan              \twith ID 1Hsdzj7Dlq2I7tHP7501T4\n",
      "10.\tHarry Styles             \twith ID 6KImCVD70vtIoJWnq6nGn3\n",
      "11.\tCarly Rae Jepsen         \twith ID 6sFIWsNpZYqfjUpaCgueju\n",
      "12.\tCamila Cabello           \twith ID 4nDoRrQiYLoBzwC5BhVJzF\n",
      "13.\tJonas Brothers           \twith ID 7gOdHgIoIKoe4i9Tta6qdD\n",
      "14.\tJulia Michaels           \twith ID 0ZED1XzwlLHW4ZaG4lOT6m\n",
      "15.\tOne Direction            \twith ID 4AK6F7OLvEQ5QYCBNiQWHq\n",
      "16.\tHalsey                   \twith ID 26VFTg2z8YR0cCuwLzESi2\n",
      "17.\tMeghan Trainor           \twith ID 6JL8zeS1NmiOftqZTRgdTz\n",
      "18.\t5 Seconds of Summer      \twith ID 5Rl15oVamLq7FbSb0NNBNy\n",
      "19.\tKesha                    \twith ID 6LqNN22kT3074XbTVUrhzX\n",
      "20.\tSelena Gomez & The Scene \twith ID 6dJeKm76NjfXBNTpHmOhfO\n"
     ]
    }
   ],
   "source": [
    "for i,a in enumerate(spotify.artist_related_artists(artists['Taylor Swift']['id'])):\n",
    "    print(f\"{i+1}.\\t{a.name:<25}\\twith ID {a.id}\")"
   ]
  },
  {
   "cell_type": "markdown",
   "metadata": {},
   "source": [
    "These artists are thus added to the related artists of Taylor Swift and are further added to be searched next in the acquisition.\n",
    "\n",
    "Note that Spotify has a related artists algorithm which will with the best of its ability try to retrieve 20 related artists of each artists. Which means we will generally have a branching factor of 20 in the graph. Some artists, however, are unknown, have corrupt metadata or have obscure origins and as such will therefore have less than 20 artists. But this is rare in the dataset.\n",
    "\n",
    "Next, the genre is scraped from Everynoise.com. This is done simply by getting the HTML directly through the URL with the artist's name inserted as the %s search string. Regular Expressions is then used to extract the genres which are simply in a DIV inside the HTML.\n",
    "\n",
    "An example of the genres returned for \"Taylor Swift\":"
   ]
  },
  {
   "cell_type": "code",
   "execution_count": 4,
   "metadata": {},
   "outputs": [
    {
     "name": "stdout",
     "output_type": "stream",
     "text": [
      "['pop']\n"
     ]
    }
   ],
   "source": [
    "print(getGenresOfName(\"Taylor Swift\"))"
   ]
  },
  {
   "cell_type": "markdown",
   "metadata": {},
   "source": [
    "Here Taylor Swift only has the single genre \"pop\" according to Everynoise.com. Another artist might have multiple genres, such as [\"pop\", \"rock\", \"country\"].\n",
    "\n",
    "The size of the dataset after 3 passes is as follows:"
   ]
  },
  {
   "cell_type": "code",
   "execution_count": 5,
   "metadata": {},
   "outputs": [
    {
     "name": "stdout",
     "output_type": "stream",
     "text": [
      "There are 4425 unique genres.\n",
      "There are  90815 artists.\n",
      "\n",
      "The following genres are the most prevalent:\n",
      "1.\tpop            :\t579 artists\n",
      "2.\telectro house  :\t566 artists\n",
      "3.\tdance pop      :\t563 artists\n",
      "4.\tedm            :\t500 artists\n",
      "5.\tindie pop      :\t489 artists\n",
      "6.\thip hop        :\t456 artists\n",
      "7.\trock           :\t455 artists\n",
      "8.\tpop rap        :\t451 artists\n",
      "9.\telectropop     :\t450 artists\n",
      "10.\tmodern rock    :\t440 artists\n"
     ]
    },
    {
     "data": {
      "image/png": "[encoded data removed]",
      "image/svg+xml": "<?xml version=\"1.0\" encoding=\"utf-8\" standalone=\"no\"?>\n<!DOCTYPE svg PUBLIC \"-//W3C//DTD SVG 1.1//EN\"\n  \"http://www.w3.org/Graphics/SVG/1.1/DTD/svg11.dtd\">\n<svg xmlns:xlink=\"http://www.w3.org/1999/xlink\" width=\"400.711888pt\" height=\"277.314375pt\" viewBox=\"0 0 400.711888 277.314375\" xmlns=\"http://www.w3.org/2000/svg\" version=\"1.1\">\n <metadata>\n  <rdf:RDF xmlns:dc=\"http://purl.org/dc/elements/1.1/\" xmlns:cc=\"http://creativecommons.org/ns#\" xmlns:rdf=\"http://www.w3.org/1999/02/22-rdf-syntax-ns#\">\n   <cc:Work>\n    <dc:type rdf:resource=\"http://purl.org/dc/dcmitype/StillImage\"/>\n    <dc:date>2022-05-04T21:58:11.814553</dc:date>\n    <dc:format>image/svg+xml</dc:format>\n    <dc:creator>\n     <cc:Agent>\n      <dc:title>Matplotlib v3.5.0, https://matplotlib.org/</dc:title>\n     </cc:Agent>\n    </dc:creator>\n   </cc:Work>\n  </rdf:RDF>\n </metadata>\n <defs>\n  <style type=\"text/css\">*{stroke-linejoin: round; stroke-linecap: butt}</style>\n </defs>\n <g id=\"figure_1\">\n  <g id=\"patch_1\">\n   <path d=\"M 0 277.314375 \nL 400.711888 277.314375 \nL 400.711888 0 \nL 0 0 \nL 0 277.314375 \nz\n\" style=\"fill: none\"/>\n  </g>\n  <g id=\"axes_1\">\n   <g id=\"patch_2\">\n    <path d=\"M 53.328125 239.758125 \nL 388.128125 239.758125 \nL 388.128125 22.318125 \nL 53.328125 22.318125 \nz\n\" style=\"fill: #ffffff\"/>\n   </g>\n   <g id=\"patch_3\">\n    <path d=\"M 68.546307 239.758125 \nL 83.764489 239.758125 \nL 83.764489 32.672411 \nL 68.546307 32.672411 \nz\n\" clip-path=\"url(#p9b513c01e8)\" style=\"fill: #1f77b4\"/>\n   </g>\n   <g id=\"patch_4\">\n    <path d=\"M 83.764489 239.758125 \nL 98.98267 239.758125 \nL 98.98267 206.097097 \nL 83.764489 206.097097 \nz\n\" clip-path=\"url(#p9b513c01e8)\" style=\"fill: #1f77b4\"/>\n   </g>\n   <g id=\"patch_5\">\n    <path d=\"M 98.98267 239.758125 \nL 114.200852 239.758125 \nL 114.200852 225.487385 \nL 98.98267 225.487385 \nz\n\" clip-path=\"url(#p9b513c01e8)\" style=\"fill: #1f77b4\"/>\n   </g>\n   <g id=\"patch_6\">\n    <path d=\"M 114.200852 239.758125 \nL 129.419034 239.758125 \nL 129.419034 231.758831 \nL 114.200852 231.758831 \nz\n\" clip-path=\"url(#p9b513c01e8)\" style=\"fill: #1f77b4\"/>\n   </g>\n   <g id=\"patch_7\">\n    <path d=\"M 129.419034 239.758125 \nL 144.637216 239.758125 \nL 144.637216 234.254611 \nL 129.419034 234.254611 \nz\n\" clip-path=\"url(#p9b513c01e8)\" style=\"fill: #1f77b4\"/>\n   </g>\n   <g id=\"patch_8\">\n    <path d=\"M 144.637216 239.758125 \nL 159.855398 239.758125 \nL 159.855398 235.214526 \nL 144.637216 235.214526 \nz\n\" clip-path=\"url(#p9b513c01e8)\" style=\"fill: #1f77b4\"/>\n   </g>\n   <g id=\"patch_9\">\n    <path d=\"M 159.855398 239.758125 \nL 175.07358 239.758125 \nL 175.07358 237.198351 \nL 159.855398 237.198351 \nz\n\" clip-path=\"url(#p9b513c01e8)\" style=\"fill: #1f77b4\"/>\n   </g>\n   <g id=\"patch_10\">\n    <path d=\"M 175.07358 239.758125 \nL 190.291761 239.758125 \nL 190.291761 237.582317 \nL 175.07358 237.582317 \nz\n\" clip-path=\"url(#p9b513c01e8)\" style=\"fill: #1f77b4\"/>\n   </g>\n   <g id=\"patch_11\">\n    <path d=\"M 190.291761 239.758125 \nL 205.509943 239.758125 \nL 205.509943 238.79821 \nL 190.291761 238.79821 \nz\n\" clip-path=\"url(#p9b513c01e8)\" style=\"fill: #1f77b4\"/>\n   </g>\n   <g id=\"patch_12\">\n    <path d=\"M 205.509943 239.758125 \nL 220.728125 239.758125 \nL 220.728125 238.542232 \nL 205.509943 238.542232 \nz\n\" clip-path=\"url(#p9b513c01e8)\" style=\"fill: #1f77b4\"/>\n   </g>\n   <g id=\"patch_13\">\n    <path d=\"M 220.728125 239.758125 \nL 235.946307 239.758125 \nL 235.946307 238.79821 \nL 220.728125 238.79821 \nz\n\" clip-path=\"url(#p9b513c01e8)\" style=\"fill: #1f77b4\"/>\n   </g>\n   <g id=\"patch_14\">\n    <path d=\"M 235.946307 239.758125 \nL 251.164489 239.758125 \nL 251.164489 239.118182 \nL 235.946307 239.118182 \nz\n\" clip-path=\"url(#p9b513c01e8)\" style=\"fill: #1f77b4\"/>\n   </g>\n   <g id=\"patch_15\">\n    <path d=\"M 251.164489 239.758125 \nL 266.38267 239.758125 \nL 266.38267 239.438153 \nL 251.164489 239.438153 \nz\n\" clip-path=\"url(#p9b513c01e8)\" style=\"fill: #1f77b4\"/>\n   </g>\n   <g id=\"patch_16\">\n    <path d=\"M 266.38267 239.758125 \nL 281.600852 239.758125 \nL 281.600852 239.310165 \nL 266.38267 239.310165 \nz\n\" clip-path=\"url(#p9b513c01e8)\" style=\"fill: #1f77b4\"/>\n   </g>\n   <g id=\"patch_17\">\n    <path d=\"M 281.600852 239.758125 \nL 296.819034 239.758125 \nL 296.819034 239.694131 \nL 281.600852 239.694131 \nz\n\" clip-path=\"url(#p9b513c01e8)\" style=\"fill: #1f77b4\"/>\n   </g>\n   <g id=\"patch_18\">\n    <path d=\"M 296.819034 239.758125 \nL 312.037216 239.758125 \nL 312.037216 239.310165 \nL 296.819034 239.310165 \nz\n\" clip-path=\"url(#p9b513c01e8)\" style=\"fill: #1f77b4\"/>\n   </g>\n   <g id=\"patch_19\">\n    <path d=\"M 312.037216 239.758125 \nL 327.255398 239.758125 \nL 327.255398 239.694131 \nL 312.037216 239.694131 \nz\n\" clip-path=\"url(#p9b513c01e8)\" style=\"fill: #1f77b4\"/>\n   </g>\n   <g id=\"patch_20\">\n    <path d=\"M 327.255398 239.758125 \nL 342.47358 239.758125 \nL 342.47358 239.694131 \nL 327.255398 239.694131 \nz\n\" clip-path=\"url(#p9b513c01e8)\" style=\"fill: #1f77b4\"/>\n   </g>\n   <g id=\"patch_21\">\n    <path d=\"M 342.47358 239.758125 \nL 357.691761 239.758125 \nL 357.691761 239.758125 \nL 342.47358 239.758125 \nz\n\" clip-path=\"url(#p9b513c01e8)\" style=\"fill: #1f77b4\"/>\n   </g>\n   <g id=\"patch_22\">\n    <path d=\"M 357.691761 239.758125 \nL 372.909943 239.758125 \nL 372.909943 239.566142 \nL 357.691761 239.566142 \nz\n\" clip-path=\"url(#p9b513c01e8)\" style=\"fill: #1f77b4\"/>\n   </g>\n   <g id=\"matplotlib.axis_1\">\n    <g id=\"xtick_1\">\n     <g id=\"line2d_1\">\n      <defs>\n       <path id=\"m1dcdf0e74e\" d=\"M 0 0 \nL 0 3.5 \n\" style=\"stroke: #000000; stroke-width: 0.8\"/>\n      </defs>\n      <g>\n       <use xlink:href=\"#m1dcdf0e74e\" x=\"68.019726\" y=\"239.758125\" style=\"stroke: #000000; stroke-width: 0.8\"/>\n      </g>\n     </g>\n     <g id=\"text_1\">\n      <!-- 0 -->\n      <g transform=\"translate(64.838476 254.356562)scale(0.1 -0.1)\">\n       <defs>\n        <path id=\"DejaVuSans-30\" d=\"M 2034 4250 \nQ 1547 4250 1301 3770 \nQ 1056 3291 1056 2328 \nQ 1056 1369 1301 889 \nQ 1547 409 2034 409 \nQ 2525 409 2770 889 \nQ 3016 1369 3016 2328 \nQ 3016 3291 2770 3770 \nQ 2525 4250 2034 4250 \nz\nM 2034 4750 \nQ 2819 4750 3233 4129 \nQ 3647 3509 3647 2328 \nQ 3647 1150 3233 529 \nQ 2819 -91 2034 -91 \nQ 1250 -91 836 529 \nQ 422 1150 422 2328 \nQ 422 3509 836 4129 \nQ 1250 4750 2034 4750 \nz\n\" transform=\"scale(0.015625)\"/>\n       </defs>\n       <use xlink:href=\"#DejaVuSans-30\"/>\n      </g>\n     </g>\n    </g>\n    <g id=\"xtick_2\">\n     <g id=\"line2d_2\">\n      <g>\n       <use xlink:href=\"#m1dcdf0e74e\" x=\"120.677795\" y=\"239.758125\" style=\"stroke: #000000; stroke-width: 0.8\"/>\n      </g>\n     </g>\n     <g id=\"text_2\">\n      <!-- 100 -->\n      <g transform=\"translate(111.134045 254.356562)scale(0.1 -0.1)\">\n       <defs>\n        <path id=\"DejaVuSans-31\" d=\"M 794 531 \nL 1825 531 \nL 1825 4091 \nL 703 3866 \nL 703 4441 \nL 1819 4666 \nL 2450 4666 \nL 2450 531 \nL 3481 531 \nL 3481 0 \nL 794 0 \nL 794 531 \nz\n\" transform=\"scale(0.015625)\"/>\n       </defs>\n       <use xlink:href=\"#DejaVuSans-31\"/>\n       <use xlink:href=\"#DejaVuSans-30\" x=\"63.623047\"/>\n       <use xlink:href=\"#DejaVuSans-30\" x=\"127.246094\"/>\n      </g>\n     </g>\n    </g>\n    <g id=\"xtick_3\">\n     <g id=\"line2d_3\">\n      <g>\n       <use xlink:href=\"#m1dcdf0e74e\" x=\"173.335863\" y=\"239.758125\" style=\"stroke: #000000; stroke-width: 0.8\"/>\n      </g>\n     </g>\n     <g id=\"text_3\">\n      <!-- 200 -->\n      <g transform=\"translate(163.792113 254.356562)scale(0.1 -0.1)\">\n       <defs>\n        <path id=\"DejaVuSans-32\" d=\"M 1228 531 \nL 3431 531 \nL 3431 0 \nL 469 0 \nL 469 531 \nQ 828 903 1448 1529 \nQ 2069 2156 2228 2338 \nQ 2531 2678 2651 2914 \nQ 2772 3150 2772 3378 \nQ 2772 3750 2511 3984 \nQ 2250 4219 1831 4219 \nQ 1534 4219 1204 4116 \nQ 875 4013 500 3803 \nL 500 4441 \nQ 881 4594 1212 4672 \nQ 1544 4750 1819 4750 \nQ 2544 4750 2975 4387 \nQ 3406 4025 3406 3419 \nQ 3406 3131 3298 2873 \nQ 3191 2616 2906 2266 \nQ 2828 2175 2409 1742 \nQ 1991 1309 1228 531 \nz\n\" transform=\"scale(0.015625)\"/>\n       </defs>\n       <use xlink:href=\"#DejaVuSans-32\"/>\n       <use xlink:href=\"#DejaVuSans-30\" x=\"63.623047\"/>\n       <use xlink:href=\"#DejaVuSans-30\" x=\"127.246094\"/>\n      </g>\n     </g>\n    </g>\n    <g id=\"xtick_4\">\n     <g id=\"line2d_4\">\n      <g>\n       <use xlink:href=\"#m1dcdf0e74e\" x=\"225.993932\" y=\"239.758125\" style=\"stroke: #000000; stroke-width: 0.8\"/>\n      </g>\n     </g>\n     <g id=\"text_4\">\n      <!-- 300 -->\n      <g transform=\"translate(216.450182 254.356562)scale(0.1 -0.1)\">\n       <defs>\n        <path id=\"DejaVuSans-33\" d=\"M 2597 2516 \nQ 3050 2419 3304 2112 \nQ 3559 1806 3559 1356 \nQ 3559 666 3084 287 \nQ 2609 -91 1734 -91 \nQ 1441 -91 1130 -33 \nQ 819 25 488 141 \nL 488 750 \nQ 750 597 1062 519 \nQ 1375 441 1716 441 \nQ 2309 441 2620 675 \nQ 2931 909 2931 1356 \nQ 2931 1769 2642 2001 \nQ 2353 2234 1838 2234 \nL 1294 2234 \nL 1294 2753 \nL 1863 2753 \nQ 2328 2753 2575 2939 \nQ 2822 3125 2822 3475 \nQ 2822 3834 2567 4026 \nQ 2313 4219 1838 4219 \nQ 1578 4219 1281 4162 \nQ 984 4106 628 3988 \nL 628 4550 \nQ 988 4650 1302 4700 \nQ 1616 4750 1894 4750 \nQ 2613 4750 3031 4423 \nQ 3450 4097 3450 3541 \nQ 3450 3153 3228 2886 \nQ 3006 2619 2597 2516 \nz\n\" transform=\"scale(0.015625)\"/>\n       </defs>\n       <use xlink:href=\"#DejaVuSans-33\"/>\n       <use xlink:href=\"#DejaVuSans-30\" x=\"63.623047\"/>\n       <use xlink:href=\"#DejaVuSans-30\" x=\"127.246094\"/>\n      </g>\n     </g>\n    </g>\n    <g id=\"xtick_5\">\n     <g id=\"line2d_5\">\n      <g>\n       <use xlink:href=\"#m1dcdf0e74e\" x=\"278.652\" y=\"239.758125\" style=\"stroke: #000000; stroke-width: 0.8\"/>\n      </g>\n     </g>\n     <g id=\"text_5\">\n      <!-- 400 -->\n      <g transform=\"translate(269.10825 254.356562)scale(0.1 -0.1)\">\n       <defs>\n        <path id=\"DejaVuSans-34\" d=\"M 2419 4116 \nL 825 1625 \nL 2419 1625 \nL 2419 4116 \nz\nM 2253 4666 \nL 3047 4666 \nL 3047 1625 \nL 3713 1625 \nL 3713 1100 \nL 3047 1100 \nL 3047 0 \nL 2419 0 \nL 2419 1100 \nL 313 1100 \nL 313 1709 \nL 2253 4666 \nz\n\" transform=\"scale(0.015625)\"/>\n       </defs>\n       <use xlink:href=\"#DejaVuSans-34\"/>\n       <use xlink:href=\"#DejaVuSans-30\" x=\"63.623047\"/>\n       <use xlink:href=\"#DejaVuSans-30\" x=\"127.246094\"/>\n      </g>\n     </g>\n    </g>\n    <g id=\"xtick_6\">\n     <g id=\"line2d_6\">\n      <g>\n       <use xlink:href=\"#m1dcdf0e74e\" x=\"331.310069\" y=\"239.758125\" style=\"stroke: #000000; stroke-width: 0.8\"/>\n      </g>\n     </g>\n     <g id=\"text_6\">\n      <!-- 500 -->\n      <g transform=\"translate(321.766319 254.356562)scale(0.1 -0.1)\">\n       <defs>\n        <path id=\"DejaVuSans-35\" d=\"M 691 4666 \nL 3169 4666 \nL 3169 4134 \nL 1269 4134 \nL 1269 2991 \nQ 1406 3038 1543 3061 \nQ 1681 3084 1819 3084 \nQ 2600 3084 3056 2656 \nQ 3513 2228 3513 1497 \nQ 3513 744 3044 326 \nQ 2575 -91 1722 -91 \nQ 1428 -91 1123 -41 \nQ 819 9 494 109 \nL 494 744 \nQ 775 591 1075 516 \nQ 1375 441 1709 441 \nQ 2250 441 2565 725 \nQ 2881 1009 2881 1497 \nQ 2881 1984 2565 2268 \nQ 2250 2553 1709 2553 \nQ 1456 2553 1204 2497 \nQ 953 2441 691 2322 \nL 691 4666 \nz\n\" transform=\"scale(0.015625)\"/>\n       </defs>\n       <use xlink:href=\"#DejaVuSans-35\"/>\n       <use xlink:href=\"#DejaVuSans-30\" x=\"63.623047\"/>\n       <use xlink:href=\"#DejaVuSans-30\" x=\"127.246094\"/>\n      </g>\n     </g>\n    </g>\n    <g id=\"xtick_7\">\n     <g id=\"line2d_7\">\n      <g>\n       <use xlink:href=\"#m1dcdf0e74e\" x=\"383.968138\" y=\"239.758125\" style=\"stroke: #000000; stroke-width: 0.8\"/>\n      </g>\n     </g>\n     <g id=\"text_7\">\n      <!-- 600 -->\n      <g transform=\"translate(374.424388 254.356562)scale(0.1 -0.1)\">\n       <defs>\n        <path id=\"DejaVuSans-36\" d=\"M 2113 2584 \nQ 1688 2584 1439 2293 \nQ 1191 2003 1191 1497 \nQ 1191 994 1439 701 \nQ 1688 409 2113 409 \nQ 2538 409 2786 701 \nQ 3034 994 3034 1497 \nQ 3034 2003 2786 2293 \nQ 2538 2584 2113 2584 \nz\nM 3366 4563 \nL 3366 3988 \nQ 3128 4100 2886 4159 \nQ 2644 4219 2406 4219 \nQ 1781 4219 1451 3797 \nQ 1122 3375 1075 2522 \nQ 1259 2794 1537 2939 \nQ 1816 3084 2150 3084 \nQ 2853 3084 3261 2657 \nQ 3669 2231 3669 1497 \nQ 3669 778 3244 343 \nQ 2819 -91 2113 -91 \nQ 1303 -91 875 529 \nQ 447 1150 447 2328 \nQ 447 3434 972 4092 \nQ 1497 4750 2381 4750 \nQ 2619 4750 2861 4703 \nQ 3103 4656 3366 4563 \nz\n\" transform=\"scale(0.015625)\"/>\n       </defs>\n       <use xlink:href=\"#DejaVuSans-36\"/>\n       <use xlink:href=\"#DejaVuSans-30\" x=\"63.623047\"/>\n       <use xlink:href=\"#DejaVuSans-30\" x=\"127.246094\"/>\n      </g>\n     </g>\n    </g>\n    <g id=\"text_8\">\n     <!-- Number of artists -->\n     <g transform=\"translate(177.00625 268.034687)scale(0.1 -0.1)\">\n      <defs>\n       <path id=\"DejaVuSans-4e\" d=\"M 628 4666 \nL 1478 4666 \nL 3547 763 \nL 3547 4666 \nL 4159 4666 \nL 4159 0 \nL 3309 0 \nL 1241 3903 \nL 1241 0 \nL 628 0 \nL 628 4666 \nz\n\" transform=\"scale(0.015625)\"/>\n       <path id=\"DejaVuSans-75\" d=\"M 544 1381 \nL 544 3500 \nL 1119 3500 \nL 1119 1403 \nQ 1119 906 1312 657 \nQ 1506 409 1894 409 \nQ 2359 409 2629 706 \nQ 2900 1003 2900 1516 \nL 2900 3500 \nL 3475 3500 \nL 3475 0 \nL 2900 0 \nL 2900 538 \nQ 2691 219 2414 64 \nQ 2138 -91 1772 -91 \nQ 1169 -91 856 284 \nQ 544 659 544 1381 \nz\nM 1991 3584 \nL 1991 3584 \nz\n\" transform=\"scale(0.015625)\"/>\n       <path id=\"DejaVuSans-6d\" d=\"M 3328 2828 \nQ 3544 3216 3844 3400 \nQ 4144 3584 4550 3584 \nQ 5097 3584 5394 3201 \nQ 5691 2819 5691 2113 \nL 5691 0 \nL 5113 0 \nL 5113 2094 \nQ 5113 2597 4934 2840 \nQ 4756 3084 4391 3084 \nQ 3944 3084 3684 2787 \nQ 3425 2491 3425 1978 \nL 3425 0 \nL 2847 0 \nL 2847 2094 \nQ 2847 2600 2669 2842 \nQ 2491 3084 2119 3084 \nQ 1678 3084 1418 2786 \nQ 1159 2488 1159 1978 \nL 1159 0 \nL 581 0 \nL 581 3500 \nL 1159 3500 \nL 1159 2956 \nQ 1356 3278 1631 3431 \nQ 1906 3584 2284 3584 \nQ 2666 3584 2933 3390 \nQ 3200 3197 3328 2828 \nz\n\" transform=\"scale(0.015625)\"/>\n       <path id=\"DejaVuSans-62\" d=\"M 3116 1747 \nQ 3116 2381 2855 2742 \nQ 2594 3103 2138 3103 \nQ 1681 3103 1420 2742 \nQ 1159 2381 1159 1747 \nQ 1159 1113 1420 752 \nQ 1681 391 2138 391 \nQ 2594 391 2855 752 \nQ 3116 1113 3116 1747 \nz\nM 1159 2969 \nQ 1341 3281 1617 3432 \nQ 1894 3584 2278 3584 \nQ 2916 3584 3314 3078 \nQ 3713 2572 3713 1747 \nQ 3713 922 3314 415 \nQ 2916 -91 2278 -91 \nQ 1894 -91 1617 61 \nQ 1341 213 1159 525 \nL 1159 0 \nL 581 0 \nL 581 4863 \nL 1159 4863 \nL 1159 2969 \nz\n\" transform=\"scale(0.015625)\"/>\n       <path id=\"DejaVuSans-65\" d=\"M 3597 1894 \nL 3597 1613 \nL 953 1613 \nQ 991 1019 1311 708 \nQ 1631 397 2203 397 \nQ 2534 397 2845 478 \nQ 3156 559 3463 722 \nL 3463 178 \nQ 3153 47 2828 -22 \nQ 2503 -91 2169 -91 \nQ 1331 -91 842 396 \nQ 353 884 353 1716 \nQ 353 2575 817 3079 \nQ 1281 3584 2069 3584 \nQ 2775 3584 3186 3129 \nQ 3597 2675 3597 1894 \nz\nM 3022 2063 \nQ 3016 2534 2758 2815 \nQ 2500 3097 2075 3097 \nQ 1594 3097 1305 2825 \nQ 1016 2553 972 2059 \nL 3022 2063 \nz\n\" transform=\"scale(0.015625)\"/>\n       <path id=\"DejaVuSans-72\" d=\"M 2631 2963 \nQ 2534 3019 2420 3045 \nQ 2306 3072 2169 3072 \nQ 1681 3072 1420 2755 \nQ 1159 2438 1159 1844 \nL 1159 0 \nL 581 0 \nL 581 3500 \nL 1159 3500 \nL 1159 2956 \nQ 1341 3275 1631 3429 \nQ 1922 3584 2338 3584 \nQ 2397 3584 2469 3576 \nQ 2541 3569 2628 3553 \nL 2631 2963 \nz\n\" transform=\"scale(0.015625)\"/>\n       <path id=\"DejaVuSans-20\" transform=\"scale(0.015625)\"/>\n       <path id=\"DejaVuSans-6f\" d=\"M 1959 3097 \nQ 1497 3097 1228 2736 \nQ 959 2375 959 1747 \nQ 959 1119 1226 758 \nQ 1494 397 1959 397 \nQ 2419 397 2687 759 \nQ 2956 1122 2956 1747 \nQ 2956 2369 2687 2733 \nQ 2419 3097 1959 3097 \nz\nM 1959 3584 \nQ 2709 3584 3137 3096 \nQ 3566 2609 3566 1747 \nQ 3566 888 3137 398 \nQ 2709 -91 1959 -91 \nQ 1206 -91 779 398 \nQ 353 888 353 1747 \nQ 353 2609 779 3096 \nQ 1206 3584 1959 3584 \nz\n\" transform=\"scale(0.015625)\"/>\n       <path id=\"DejaVuSans-66\" d=\"M 2375 4863 \nL 2375 4384 \nL 1825 4384 \nQ 1516 4384 1395 4259 \nQ 1275 4134 1275 3809 \nL 1275 3500 \nL 2222 3500 \nL 2222 3053 \nL 1275 3053 \nL 1275 0 \nL 697 0 \nL 697 3053 \nL 147 3053 \nL 147 3500 \nL 697 3500 \nL 697 3744 \nQ 697 4328 969 4595 \nQ 1241 4863 1831 4863 \nL 2375 4863 \nz\n\" transform=\"scale(0.015625)\"/>\n       <path id=\"DejaVuSans-61\" d=\"M 2194 1759 \nQ 1497 1759 1228 1600 \nQ 959 1441 959 1056 \nQ 959 750 1161 570 \nQ 1363 391 1709 391 \nQ 2188 391 2477 730 \nQ 2766 1069 2766 1631 \nL 2766 1759 \nL 2194 1759 \nz\nM 3341 1997 \nL 3341 0 \nL 2766 0 \nL 2766 531 \nQ 2569 213 2275 61 \nQ 1981 -91 1556 -91 \nQ 1019 -91 701 211 \nQ 384 513 384 1019 \nQ 384 1609 779 1909 \nQ 1175 2209 1959 2209 \nL 2766 2209 \nL 2766 2266 \nQ 2766 2663 2505 2880 \nQ 2244 3097 1772 3097 \nQ 1472 3097 1187 3025 \nQ 903 2953 641 2809 \nL 641 3341 \nQ 956 3463 1253 3523 \nQ 1550 3584 1831 3584 \nQ 2591 3584 2966 3190 \nQ 3341 2797 3341 1997 \nz\n\" transform=\"scale(0.015625)\"/>\n       <path id=\"DejaVuSans-74\" d=\"M 1172 4494 \nL 1172 3500 \nL 2356 3500 \nL 2356 3053 \nL 1172 3053 \nL 1172 1153 \nQ 1172 725 1289 603 \nQ 1406 481 1766 481 \nL 2356 481 \nL 2356 0 \nL 1766 0 \nQ 1100 0 847 248 \nQ 594 497 594 1153 \nL 594 3053 \nL 172 3053 \nL 172 3500 \nL 594 3500 \nL 594 4494 \nL 1172 4494 \nz\n\" transform=\"scale(0.015625)\"/>\n       <path id=\"DejaVuSans-69\" d=\"M 603 3500 \nL 1178 3500 \nL 1178 0 \nL 603 0 \nL 603 3500 \nz\nM 603 4863 \nL 1178 4863 \nL 1178 4134 \nL 603 4134 \nL 603 4863 \nz\n\" transform=\"scale(0.015625)\"/>\n       <path id=\"DejaVuSans-73\" d=\"M 2834 3397 \nL 2834 2853 \nQ 2591 2978 2328 3040 \nQ 2066 3103 1784 3103 \nQ 1356 3103 1142 2972 \nQ 928 2841 928 2578 \nQ 928 2378 1081 2264 \nQ 1234 2150 1697 2047 \nL 1894 2003 \nQ 2506 1872 2764 1633 \nQ 3022 1394 3022 966 \nQ 3022 478 2636 193 \nQ 2250 -91 1575 -91 \nQ 1294 -91 989 -36 \nQ 684 19 347 128 \nL 347 722 \nQ 666 556 975 473 \nQ 1284 391 1588 391 \nQ 1994 391 2212 530 \nQ 2431 669 2431 922 \nQ 2431 1156 2273 1281 \nQ 2116 1406 1581 1522 \nL 1381 1569 \nQ 847 1681 609 1914 \nQ 372 2147 372 2553 \nQ 372 3047 722 3315 \nQ 1072 3584 1716 3584 \nQ 2034 3584 2315 3537 \nQ 2597 3491 2834 3397 \nz\n\" transform=\"scale(0.015625)\"/>\n      </defs>\n      <use xlink:href=\"#DejaVuSans-4e\"/>\n      <use xlink:href=\"#DejaVuSans-75\" x=\"74.804688\"/>\n      <use xlink:href=\"#DejaVuSans-6d\" x=\"138.183594\"/>\n      <use xlink:href=\"#DejaVuSans-62\" x=\"235.595703\"/>\n      <use xlink:href=\"#DejaVuSans-65\" x=\"299.072266\"/>\n      <use xlink:href=\"#DejaVuSans-72\" x=\"360.595703\"/>\n      <use xlink:href=\"#DejaVuSans-20\" x=\"401.708984\"/>\n      <use xlink:href=\"#DejaVuSans-6f\" x=\"433.496094\"/>\n      <use xlink:href=\"#DejaVuSans-66\" x=\"494.677734\"/>\n      <use xlink:href=\"#DejaVuSans-20\" x=\"529.882812\"/>\n      <use xlink:href=\"#DejaVuSans-61\" x=\"561.669922\"/>\n      <use xlink:href=\"#DejaVuSans-72\" x=\"622.949219\"/>\n      <use xlink:href=\"#DejaVuSans-74\" x=\"664.0625\"/>\n      <use xlink:href=\"#DejaVuSans-69\" x=\"703.271484\"/>\n      <use xlink:href=\"#DejaVuSans-73\" x=\"731.054688\"/>\n      <use xlink:href=\"#DejaVuSans-74\" x=\"783.154297\"/>\n      <use xlink:href=\"#DejaVuSans-73\" x=\"822.363281\"/>\n     </g>\n    </g>\n   </g>\n   <g id=\"matplotlib.axis_2\">\n    <g id=\"ytick_1\">\n     <g id=\"line2d_8\">\n      <defs>\n       <path id=\"m60aedc7a82\" d=\"M 0 0 \nL -3.5 0 \n\" style=\"stroke: #000000; stroke-width: 0.8\"/>\n      </defs>\n      <g>\n       <use xlink:href=\"#m60aedc7a82\" x=\"53.328125\" y=\"239.758125\" style=\"stroke: #000000; stroke-width: 0.8\"/>\n      </g>\n     </g>\n     <g id=\"text_9\">\n      <!-- 0 -->\n      <g transform=\"translate(39.965625 243.557344)scale(0.1 -0.1)\">\n       <use xlink:href=\"#DejaVuSans-30\"/>\n      </g>\n     </g>\n    </g>\n    <g id=\"ytick_2\">\n     <g id=\"line2d_9\">\n      <g>\n       <use xlink:href=\"#m60aedc7a82\" x=\"53.328125\" y=\"207.76095\" style=\"stroke: #000000; stroke-width: 0.8\"/>\n      </g>\n     </g>\n     <g id=\"text_10\">\n      <!-- 500 -->\n      <g transform=\"translate(27.240625 211.560169)scale(0.1 -0.1)\">\n       <use xlink:href=\"#DejaVuSans-35\"/>\n       <use xlink:href=\"#DejaVuSans-30\" x=\"63.623047\"/>\n       <use xlink:href=\"#DejaVuSans-30\" x=\"127.246094\"/>\n      </g>\n     </g>\n    </g>\n    <g id=\"ytick_3\">\n     <g id=\"line2d_10\">\n      <g>\n       <use xlink:href=\"#m60aedc7a82\" x=\"53.328125\" y=\"175.763776\" style=\"stroke: #000000; stroke-width: 0.8\"/>\n      </g>\n     </g>\n     <g id=\"text_11\">\n      <!-- 1000 -->\n      <g transform=\"translate(20.878125 179.562994)scale(0.1 -0.1)\">\n       <use xlink:href=\"#DejaVuSans-31\"/>\n       <use xlink:href=\"#DejaVuSans-30\" x=\"63.623047\"/>\n       <use xlink:href=\"#DejaVuSans-30\" x=\"127.246094\"/>\n       <use xlink:href=\"#DejaVuSans-30\" x=\"190.869141\"/>\n      </g>\n     </g>\n    </g>\n    <g id=\"ytick_4\">\n     <g id=\"line2d_11\">\n      <g>\n       <use xlink:href=\"#m60aedc7a82\" x=\"53.328125\" y=\"143.766601\" style=\"stroke: #000000; stroke-width: 0.8\"/>\n      </g>\n     </g>\n     <g id=\"text_12\">\n      <!-- 1500 -->\n      <g transform=\"translate(20.878125 147.56582)scale(0.1 -0.1)\">\n       <use xlink:href=\"#DejaVuSans-31\"/>\n       <use xlink:href=\"#DejaVuSans-35\" x=\"63.623047\"/>\n       <use xlink:href=\"#DejaVuSans-30\" x=\"127.246094\"/>\n       <use xlink:href=\"#DejaVuSans-30\" x=\"190.869141\"/>\n      </g>\n     </g>\n    </g>\n    <g id=\"ytick_5\">\n     <g id=\"line2d_12\">\n      <g>\n       <use xlink:href=\"#m60aedc7a82\" x=\"53.328125\" y=\"111.769426\" style=\"stroke: #000000; stroke-width: 0.8\"/>\n      </g>\n     </g>\n     <g id=\"text_13\">\n      <!-- 2000 -->\n      <g transform=\"translate(20.878125 115.568645)scale(0.1 -0.1)\">\n       <use xlink:href=\"#DejaVuSans-32\"/>\n       <use xlink:href=\"#DejaVuSans-30\" x=\"63.623047\"/>\n       <use xlink:href=\"#DejaVuSans-30\" x=\"127.246094\"/>\n       <use xlink:href=\"#DejaVuSans-30\" x=\"190.869141\"/>\n      </g>\n     </g>\n    </g>\n    <g id=\"ytick_6\">\n     <g id=\"line2d_13\">\n      <g>\n       <use xlink:href=\"#m60aedc7a82\" x=\"53.328125\" y=\"79.772252\" style=\"stroke: #000000; stroke-width: 0.8\"/>\n      </g>\n     </g>\n     <g id=\"text_14\">\n      <!-- 2500 -->\n      <g transform=\"translate(20.878125 83.571471)scale(0.1 -0.1)\">\n       <use xlink:href=\"#DejaVuSans-32\"/>\n       <use xlink:href=\"#DejaVuSans-35\" x=\"63.623047\"/>\n       <use xlink:href=\"#DejaVuSans-30\" x=\"127.246094\"/>\n       <use xlink:href=\"#DejaVuSans-30\" x=\"190.869141\"/>\n      </g>\n     </g>\n    </g>\n    <g id=\"ytick_7\">\n     <g id=\"line2d_14\">\n      <g>\n       <use xlink:href=\"#m60aedc7a82\" x=\"53.328125\" y=\"47.775077\" style=\"stroke: #000000; stroke-width: 0.8\"/>\n      </g>\n     </g>\n     <g id=\"text_15\">\n      <!-- 3000 -->\n      <g transform=\"translate(20.878125 51.574296)scale(0.1 -0.1)\">\n       <use xlink:href=\"#DejaVuSans-33\"/>\n       <use xlink:href=\"#DejaVuSans-30\" x=\"63.623047\"/>\n       <use xlink:href=\"#DejaVuSans-30\" x=\"127.246094\"/>\n       <use xlink:href=\"#DejaVuSans-30\" x=\"190.869141\"/>\n      </g>\n     </g>\n    </g>\n    <g id=\"text_16\">\n     <!-- Number of genres -->\n     <g transform=\"translate(14.798438 176.165469)rotate(-90)scale(0.1 -0.1)\">\n      <defs>\n       <path id=\"DejaVuSans-67\" d=\"M 2906 1791 \nQ 2906 2416 2648 2759 \nQ 2391 3103 1925 3103 \nQ 1463 3103 1205 2759 \nQ 947 2416 947 1791 \nQ 947 1169 1205 825 \nQ 1463 481 1925 481 \nQ 2391 481 2648 825 \nQ 2906 1169 2906 1791 \nz\nM 3481 434 \nQ 3481 -459 3084 -895 \nQ 2688 -1331 1869 -1331 \nQ 1566 -1331 1297 -1286 \nQ 1028 -1241 775 -1147 \nL 775 -588 \nQ 1028 -725 1275 -790 \nQ 1522 -856 1778 -856 \nQ 2344 -856 2625 -561 \nQ 2906 -266 2906 331 \nL 2906 616 \nQ 2728 306 2450 153 \nQ 2172 0 1784 0 \nQ 1141 0 747 490 \nQ 353 981 353 1791 \nQ 353 2603 747 3093 \nQ 1141 3584 1784 3584 \nQ 2172 3584 2450 3431 \nQ 2728 3278 2906 2969 \nL 2906 3500 \nL 3481 3500 \nL 3481 434 \nz\n\" transform=\"scale(0.015625)\"/>\n       <path id=\"DejaVuSans-6e\" d=\"M 3513 2113 \nL 3513 0 \nL 2938 0 \nL 2938 2094 \nQ 2938 2591 2744 2837 \nQ 2550 3084 2163 3084 \nQ 1697 3084 1428 2787 \nQ 1159 2491 1159 1978 \nL 1159 0 \nL 581 0 \nL 581 3500 \nL 1159 3500 \nL 1159 2956 \nQ 1366 3272 1645 3428 \nQ 1925 3584 2291 3584 \nQ 2894 3584 3203 3211 \nQ 3513 2838 3513 2113 \nz\n\" transform=\"scale(0.015625)\"/>\n      </defs>\n      <use xlink:href=\"#DejaVuSans-4e\"/>\n      <use xlink:href=\"#DejaVuSans-75\" x=\"74.804688\"/>\n      <use xlink:href=\"#DejaVuSans-6d\" x=\"138.183594\"/>\n      <use xlink:href=\"#DejaVuSans-62\" x=\"235.595703\"/>\n      <use xlink:href=\"#DejaVuSans-65\" x=\"299.072266\"/>\n      <use xlink:href=\"#DejaVuSans-72\" x=\"360.595703\"/>\n      <use xlink:href=\"#DejaVuSans-20\" x=\"401.708984\"/>\n      <use xlink:href=\"#DejaVuSans-6f\" x=\"433.496094\"/>\n      <use xlink:href=\"#DejaVuSans-66\" x=\"494.677734\"/>\n      <use xlink:href=\"#DejaVuSans-20\" x=\"529.882812\"/>\n      <use xlink:href=\"#DejaVuSans-67\" x=\"561.669922\"/>\n      <use xlink:href=\"#DejaVuSans-65\" x=\"625.146484\"/>\n      <use xlink:href=\"#DejaVuSans-6e\" x=\"686.669922\"/>\n      <use xlink:href=\"#DejaVuSans-72\" x=\"750.048828\"/>\n      <use xlink:href=\"#DejaVuSans-65\" x=\"788.912109\"/>\n      <use xlink:href=\"#DejaVuSans-73\" x=\"850.435547\"/>\n     </g>\n    </g>\n   </g>\n   <g id=\"patch_23\">\n    <path d=\"M 53.328125 239.758125 \nL 53.328125 22.318125 \n\" style=\"fill: none; stroke: #000000; stroke-width: 0.8; stroke-linejoin: miter; stroke-linecap: square\"/>\n   </g>\n   <g id=\"patch_24\">\n    <path d=\"M 388.128125 239.758125 \nL 388.128125 22.318125 \n\" style=\"fill: none; stroke: #000000; stroke-width: 0.8; stroke-linejoin: miter; stroke-linecap: square\"/>\n   </g>\n   <g id=\"patch_25\">\n    <path d=\"M 53.328125 239.758125 \nL 388.128125 239.758125 \n\" style=\"fill: none; stroke: #000000; stroke-width: 0.8; stroke-linejoin: miter; stroke-linecap: square\"/>\n   </g>\n   <g id=\"patch_26\">\n    <path d=\"M 53.328125 22.318125 \nL 388.128125 22.318125 \n\" style=\"fill: none; stroke: #000000; stroke-width: 0.8; stroke-linejoin: miter; stroke-linecap: square\"/>\n   </g>\n   <g id=\"text_17\">\n    <!-- Distribution of genres -->\n    <g transform=\"translate(155.675938 16.318125)scale(0.12 -0.12)\">\n     <defs>\n      <path id=\"DejaVuSans-44\" d=\"M 1259 4147 \nL 1259 519 \nL 2022 519 \nQ 2988 519 3436 956 \nQ 3884 1394 3884 2338 \nQ 3884 3275 3436 3711 \nQ 2988 4147 2022 4147 \nL 1259 4147 \nz\nM 628 4666 \nL 1925 4666 \nQ 3281 4666 3915 4102 \nQ 4550 3538 4550 2338 \nQ 4550 1131 3912 565 \nQ 3275 0 1925 0 \nL 628 0 \nL 628 4666 \nz\n\" transform=\"scale(0.015625)\"/>\n     </defs>\n     <use xlink:href=\"#DejaVuSans-44\"/>\n     <use xlink:href=\"#DejaVuSans-69\" x=\"77.001953\"/>\n     <use xlink:href=\"#DejaVuSans-73\" x=\"104.785156\"/>\n     <use xlink:href=\"#DejaVuSans-74\" x=\"156.884766\"/>\n     <use xlink:href=\"#DejaVuSans-72\" x=\"196.09375\"/>\n     <use xlink:href=\"#DejaVuSans-69\" x=\"237.207031\"/>\n     <use xlink:href=\"#DejaVuSans-62\" x=\"264.990234\"/>\n     <use xlink:href=\"#DejaVuSans-75\" x=\"328.466797\"/>\n     <use xlink:href=\"#DejaVuSans-74\" x=\"391.845703\"/>\n     <use xlink:href=\"#DejaVuSans-69\" x=\"431.054688\"/>\n     <use xlink:href=\"#DejaVuSans-6f\" x=\"458.837891\"/>\n     <use xlink:href=\"#DejaVuSans-6e\" x=\"520.019531\"/>\n     <use xlink:href=\"#DejaVuSans-20\" x=\"583.398438\"/>\n     <use xlink:href=\"#DejaVuSans-6f\" x=\"615.185547\"/>\n     <use xlink:href=\"#DejaVuSans-66\" x=\"676.367188\"/>\n     <use xlink:href=\"#DejaVuSans-20\" x=\"711.572266\"/>\n     <use xlink:href=\"#DejaVuSans-67\" x=\"743.359375\"/>\n     <use xlink:href=\"#DejaVuSans-65\" x=\"806.835938\"/>\n     <use xlink:href=\"#DejaVuSans-6e\" x=\"868.359375\"/>\n     <use xlink:href=\"#DejaVuSans-72\" x=\"931.738281\"/>\n     <use xlink:href=\"#DejaVuSans-65\" x=\"970.601562\"/>\n     <use xlink:href=\"#DejaVuSans-73\" x=\"1032.125\"/>\n    </g>\n   </g>\n  </g>\n </g>\n <defs>\n  <clipPath id=\"p9b513c01e8\">\n   <rect x=\"53.328125\" y=\"22.318125\" width=\"334.8\" height=\"217.44\"/>\n  </clipPath>\n </defs>\n</svg>\n",
      "text/plain": [
       "<Figure size 432x288 with 1 Axes>"
      ]
     },
     "metadata": {
      "needs_background": "light"
     },
     "output_type": "display_data"
    }
   ],
   "source": [
    "genres = set(g for _,data in artists.items() for g in data['genres'])\n",
    "genre_prevalence = Counter()\n",
    "for a,data in artists.items():\n",
    "    for g in data['genres']:\n",
    "        genre_prevalence[g] += 1\n",
    "\n",
    "print(\"There are\", len(genres), \"unique genres.\")\n",
    "print(\"There are \", len(artists), \"artists.\")\n",
    "print()\n",
    "print(\"The following genres are the most prevalent:\")\n",
    "for i, (g, num) in enumerate(genre_prevalence.most_common(10)):\n",
    "    print(f\"{i+1}.\\t{g:<15}:\\t{num} artists\")\n",
    "\n",
    "plt.hist(list(genre_prevalence.values()), bins=20)\n",
    "plt.xlabel(\"Number of artists\")\n",
    "plt.ylabel(\"Number of genres\")\n",
    "plt.title(\"Distribution of genres\")\n",
    "plt.show()"
   ]
  },
  {
   "cell_type": "markdown",
   "metadata": {},
   "source": [
    "The last plot shows the distribution of artists over genres. As seen, most genres are quite small (less than 20 artists). Note: an artist can have multiple genres assigned, which means lesser known genres can still appear even though the artist has an overarching genre.\n",
    "\n",
    "Also, remarkably, after only three passes there are already 90.8k artists in the dataset."
   ]
  },
  {
   "cell_type": "markdown",
   "metadata": {},
   "source": [
    "## 3.2. Genius Lyrics Data"
   ]
  },
  {
   "cell_type": "markdown",
   "metadata": {},
   "source": [
    "The next thing to gather is the lyrics of the songs of the artists. At first we wanted to retrieve multiple songs from each artist, but due to time limits, the rate limit and the size of the data (1.2 GB for 1 song for 90.8k artists) we ended up only retrieving the first song.\n",
    "\n",
    "The Spotify API can be used to retrieve the top songs of an artist. As such, the top song for each artis was retrieved. The Genius API can be used to search for lyrics by song title and artist.\n",
    "\n",
    "Below is the code for retrieving the top artsts and the lyrics from Genius API for each artist in the dataset:"
   ]
  },
  {
   "cell_type": "code",
   "execution_count": 6,
   "metadata": {},
   "outputs": [],
   "source": [
    "#Spotify API returns top 10 (or less) songs of an artist by current popularity\n",
    "def getTop10Tracks(artist_id: str):\n",
    "    return [song_from_track(t) for t in spotify.artist_top_tracks(artist_id, \"US\")]\n",
    "\n",
    "#Query the Genius API for the lyrics of an artist's top songs.\n",
    "#Returns a list of Genius Metadata for the songs.\n",
    "#If failure to retreive, returns \"FAILED\"\n",
    "#If lyrics not found or the song does not have lyrics, returns None.\n",
    "def getTopNLyrics(artist_info: Tuple[str, str], n: int = 10):\n",
    "    artist_name, artist_id = artist_info\n",
    "    lyrics = []\n",
    "    for song in getTop10Tracks(artist_id)[:n]:\n",
    "        try:\n",
    "            song_lyrics = genius.search_song(song.title, artist_name, get_full_info=False)\n",
    "            sleep(0.5)\n",
    "            lyrics.append((artist_name, artist_id, song, song_lyrics))\n",
    "        except Exception as e:\n",
    "            sleep(2.0)\n",
    "            lyrics.append((artist_name, artist_id, song, \"FAILED\"))\n",
    "            print(e)\n",
    "    return lyrics\n",
    "\n",
    "NUM_TOP_SONGS = 1\n",
    "\n",
    "try:\n",
    "    with open(f\"../data/lyrics_cache_top{NUM_TOP_SONGS}.pkl\", \"rb\") as f:\n",
    "        lyrics_cache = pkl.load(f)\n",
    "except:\n",
    "    with tqdm(total=len(artists)) as pbar:\n",
    "        for i in range(0, len(artists), 1000):\n",
    "            #Multiprocessing to speed up the process of retrieval.\n",
    "            with Pool(processes=12) as pool:\n",
    "                lyrics_cache.extend(pool.map(partial(getTopNLyrics, n=NUM_TOP_SONGS), [(name, data[\"id\"]) for name, data in list(artists.items())[i:i+1000]]))\n",
    "                pbar.update(1000)\n",
    "                with open(f\"lyrics_cache_top{NUM_TOP_SONGS}.pkl\", \"wb\") as f:\n",
    "                    pkl.dump(lyrics_cache, f)"
   ]
  },
  {
   "cell_type": "markdown",
   "metadata": {},
   "source": [
    "Above are the two functions needed to retrieve the lyrics. First the top songs which are directly retrieved from the Spotify API. The second function is used to search for lyrics by song title and artist on Genius. Finally, the process is sped up using multiprocessing while still waiting when the rate limit is reached (sleep in second function).\n",
    "\n",
    "Note on the top songs: The songs are sorted by Spotify's own algorithmic popularity, which is not only based on the total number of plays of a song but also based on the current monthly listeners (and there might be other factors as well, i.e. featured songs, etc.).\n",
    "\n",
    "Below are the lyrics to the top song for \"Taylor Swift\":"
   ]
  },
  {
   "cell_type": "code",
   "execution_count": 7,
   "metadata": {},
   "outputs": [
    {
     "name": "stdout",
     "output_type": "stream",
     "text": [
      "Taylor Swift's Top Song:\n",
      "Taylor Swift - All Too Well (10 Minute Version) (Taylor's Version) (From The Vault)\n",
      "\n",
      "With the raw unfiltered/uncleaned lyrics:\n",
      "\n",
      "All Too Well (10 Minute Version) (Taylor’s Version) [From the Vault] Lyrics[Verse 1]\n",
      "I walked through the door with you, the air was cold\n",
      "But somethin' 'bout it felt like home somehow\n",
      "And I left my scarf there at your sister's house\n",
      "And you've still got it in your drawer, even now\n",
      "\n",
      "[Verse 2]\n",
      "Oh, your sweet disposition and my wide-eyed gaze\n",
      "We're singin' in the car, getting lost upstate\n",
      "Autumn leaves fallin' down like pieces into place\n",
      "And I can picture it after all these days\n",
      "\n",
      "[Pre-Chorus]\n",
      "And I know it's long gone and\n",
      "That magic's not here no more\n",
      "And I might be okay, but I'm not fine at all\n",
      "Oh, oh, oh\n",
      "[Chorus]\n",
      "'Causе there we arе again on that little town street\n",
      "You almost ran the red 'cause you were lookin' over at me\n",
      "Wind in my hair, I was there\n",
      "I remember it all too well\n",
      "\n",
      "[Verse 3]\n",
      "Photo album on the counter, your cheeks were turnin' red\n",
      "You used to be a little kid with glasses in a twin-sized bed\n",
      "And your mother's tellin' stories 'bout you on the tee-ball team\n",
      "You taught me 'bout your past, thinkin' your future was me\n",
      "And you were tossing me the car keys, \"Fuck the patriarchy\"\n",
      "Keychain on the ground, we were always skippin' town\n",
      "And I was thinkin' on the drive down, \"Any time now\n",
      "He's gonna say it's love,\" you never called it what it was\n",
      "'Til we were dead and gone and buried\n",
      "Check the pulse and come back swearin' it's the same\n",
      "After three months in the grave\n",
      "And then you wondered where it went to as I reached for you\n",
      "But all I felt was shame and you held my lifeless frame\n",
      "\n",
      "[Pre-Chorus]\n",
      "And I know it's long gone and\n",
      "There was nothing else I could do\n",
      "And I forget about you long enough\n",
      "To forget why I needed to\n",
      "[Chorus]\n",
      "'Cause there we are again in the middle of the night\n",
      "We're dancin' 'round the kitchen in the refrigerator light\n",
      "Down the stairs, I was there\n",
      "I remember it all too well\n",
      "And there we are again when nobody had to know\n",
      "You kept me like a secret, but I kept you like an oath\n",
      "Sacred prayer and we'd swear\n",
      "To remember it all too well, yeah\n",
      "\n",
      "[Bridge]\n",
      "Well, maybe we got lost in translation, maybe I asked for too much\n",
      "But maybe this thing was a masterpiece 'til you tore it all up\n",
      "Runnin' scared, I was there\n",
      "I remember it all too well\n",
      "And you call me up again just to break me like a promise\n",
      "So casually cruel in the name of bein' honest\n",
      "I'm a crumpled-up piece of paper lyin' here\n",
      "'Cause I remember it all, all, all\n",
      "\n",
      "[Verse 4]\n",
      "They say all's well that ends well, but I'm in a new hell\n",
      "Every time you double-cross my mind\n",
      "You said if we had been closer in age, maybe it would've been fine\n",
      "And that made me want to die\n",
      "The idea you had of me, who was she?\n",
      "A never-needy, ever-lovely jewel whose shine reflects on you\n",
      "Not weepin' in a party bathroom\n",
      "Some actress askin' me what happened, you\n",
      "That's what happened, you\n",
      "You who charmed my dad with self-effacing jokes\n",
      "Sippin' coffee like you're on a late-night show\n",
      "But then he watched me watch the front door all night, willin' you to come\n",
      "And he said, \"It's supposed to be fun turning twenty-one\"\n",
      "[Verse 5]\n",
      "Time won't fly, it's like I'm paralyzed by it\n",
      "I'd like to be my old self again, but I'm still tryin' to find it\n",
      "After plaid shirt days and nights when you made me your own\n",
      "Now you mail back my things and I walk home alone\n",
      "But you keep my old scarf from that very first week\n",
      "'Cause it reminds you of innocence and it smells like me\n",
      "You can't get rid of it\n",
      "'Cause you remember it all too well, yeah\n",
      "\n",
      "[Chorus]\n",
      "'Cause there we are again when I loved you so\n",
      "Back before you lost the one real thing you've ever known\n",
      "It was rare, I was there\n",
      "I remember it all too well\n",
      "Wind in my hair, you were there\n",
      "You remember it all\n",
      "Down the stairs, you were there\n",
      "You remember it all\n",
      "It was rare, I was there\n",
      "I remember it all too well\n",
      "\n",
      "[Verse 6]\n",
      "And I was never good at tellin' jokes, but the punch line goes\n",
      "\"I'll get older, but your lovers stay my age\"\n",
      "From when your Brooklyn broke my skin and bones\n",
      "I'm a soldier who's returning half her weight\n",
      "And did the twin flame bruise paint you blue?\n",
      "Just between us, did the love affair maim you too?\n",
      "'Cause in this city's barren cold\n",
      "I still remember the first fall of snow\n",
      "And how it glistened as it fell\n",
      "I remember it all too well\n",
      "\n",
      "[Outro]\n",
      "Just between us, did the love affair maim you all too well?\n",
      "Just between us, do you remember it all too well?\n",
      "Just between us, I remember it (Just between us) all too well\n",
      "Wind in my hair, I was there, I was there (I was there)\n",
      "Down the stairs, I was there, I was there\n",
      "Sacred prayer, I was there, I was there\n",
      "It was rare, you remember it all too well\n",
      "Wind in my hair, I was there, I was there (Oh)\n",
      "Down the stairs, I was there, I was there (I was there)\n",
      "Sacred prayer, I was there, I was there\n",
      "It was rare, you remember it (All too well)\n",
      "Wind in my hair, I was there, I was there\n",
      "Down the stairs, I was there, I was there\n",
      "Sacred prayer, I was there, I was there\n",
      "It was rare, you remember it\n",
      "Wind in my hair, I was there, I was there\n",
      "Down the stairs, I was there, I was there\n",
      "Sacred prayer, I was there, I was there\n",
      "It was rare, you remember it199Embed\n"
     ]
    }
   ],
   "source": [
    "taylor_song = getTop10Tracks(artists['Taylor Swift']['id'])[0]\n",
    "print(\"Taylor Swift's Top Song:\")\n",
    "print(taylor_song)\n",
    "print()\n",
    "taylor_genius = getTopNLyrics(('Taylor Swift',artists['Taylor Swift']['id']), 1)[0][-1]\n",
    "taylor_lyrics = taylor_genius.lyrics\n",
    "print(\"With the raw unfiltered/uncleaned lyrics:\")\n",
    "print()\n",
    "print(taylor_lyrics)"
   ]
  },
  {
   "cell_type": "markdown",
   "metadata": {},
   "source": [
    "As seen, the song is quite abnormally long (10 minutes) and as such the lyrics are quite long, too. Also note how the lyrics begin with the title of the song and then \" Lyrics\" and it ends with \"199Embed\". These are just artifacts of the Genius API metadata embedded into the lyrics.\n",
    "These will be cleaned up in the next step where the lyrics are tokenized."
   ]
  },
  {
   "cell_type": "markdown",
   "metadata": {},
   "source": [
    "## 3.3. Tokenization and Sentiment Scores\n",
    "The next step consists of four parts:\n",
    "\n",
    "    1. Detecting the language of the lyrics\n",
    "    2. Pre-processing the lyrics\n",
    "    3. Tokenizing the lyrics\n",
    "    4. Getting the LabMT sentiment values"
   ]
  },
  {
   "cell_type": "code",
   "execution_count": 8,
   "metadata": {},
   "outputs": [],
   "source": [
    "get_sentiments = False\n",
    "try:\n",
    "    df = pd.read_pickle(\"../data/lyrics_sentiment.pkl\")\n",
    "except:\n",
    "    get_sentiments = True\n",
    "\n",
    "#Available languages: English, French, German, Hindi, Indonesian, Korean, Portuguese, Russian, Spanish.\n",
    "languages = ['english','french','german','hindi','indonesian','korean','portuguese','russian','spanish']\n",
    "languages_short = set(['en', 'fr', 'de', 'hi', 'id', 'ko', 'pt', 'ru', 'es'])\n",
    "\n",
    "#Make a combined dictionary of sentiment scores\n",
    "token_sentiment = {}\n",
    "for lang in languages:\n",
    "    _, vector, words = emotionFileReader(stopval=0.0,lang=lang, returnVector=True)\n",
    "    for word, value in zip(words,vector):\n",
    "        token_sentiment[word.lower()] = value\n",
    "\n",
    "#Language detection\n",
    "lang_classify = langid.LanguageIdentifier.from_modelstring(langid.model, norm_probs=True).classify\n",
    "#Translation table to remove punctuation\n",
    "table = str.maketrans('', '', punctuation)\n",
    "\n",
    "if get_sentiments:\n",
    "    #Korean tokenizer\n",
    "    konlpy_tokenize = partial(Tag().morphs,norm=True)\n",
    "    \n",
    "    df = pd.DataFrame(columns=['artist_id','artist_name','song_id','song_name','lyric_tokens','sentiment','language'])\n",
    "\n",
    "    missing_lyrics = set()\n",
    "    with tqdm(total=len(lyrics_cache)) as pbar:\n",
    "        while len(lyrics_cache) > 0:\n",
    "            song_data = lyrics_cache.pop()\n",
    "            pbar.update(1)\n",
    "            for artist_name, artist_id, song, lyric in song_data:\n",
    "                if lyric is None or lyric == \"FAILED\" or len(lyric.lyrics) > 10000:\n",
    "                    missing_lyrics.add(artist_id)\n",
    "                    continue\n",
    "                #Get lyrics raw text\n",
    "                lyric_text = lyric.lyrics\n",
    "                \n",
    "                #Clean up genius annotations\n",
    "                genius_intro = lyric.title+\" Lyrics\"\n",
    "                if lyric_text.startswith(genius_intro):\n",
    "                    lyric_text = lyric_text[len(genius_intro):]\n",
    "                if lyric_text.endswith(\"Embed\"):\n",
    "                    lyric_text = lyric_text[:-5]\n",
    "                \n",
    "                #Detect language\n",
    "                language_family, prob = lang_classify(lyric_text) #Step 1.\n",
    "                # Select tokenizer based on language\n",
    "                if not language_family in languages_short or prob < 0.5: #Step 2.\n",
    "                    continue #Skip if unknown language or low confidence\n",
    "                elif language_family == 'ko':\n",
    "                    tokenize_func = konlpy_tokenize\n",
    "                else:\n",
    "                    tokenize_func = word_tokenize\n",
    "                \n",
    "                #Clean up lyrics\n",
    "                lyric_text = lyric_text.translate(table).lower() #Remove punctuation\n",
    "                \n",
    "                tokens = [] #Tokens for this lyric\n",
    "                sentiment = [] #Sentiment for each token\n",
    "                has_sentiment = [] #Whether or not the token has sentiment score in LabMT\n",
    "                for tok in tokenize_func(lyric_text): #Step 3.\n",
    "                    tokens.append(tok)\n",
    "                    sentiment.append(token_sentiment.get(tok, 5)-5) #-5 to center LabMT sentiment scores around 0, Step 4.\n",
    "                    has_sentiment.append(tok in token_sentiment)\n",
    "                df = df.append({'artist_id':artist_id,\n",
    "                                'artist_name':artist_name,\n",
    "                                'song_id':song.id,\n",
    "                                'song_name':song.title,\n",
    "                                'lyric_tokens':tokens,\n",
    "                                'sentiment':sentiment,\n",
    "                                'has_sentiment':has_sentiment,\n",
    "                                'language':language_family},\n",
    "                            ignore_index=True)"
   ]
  },
  {
   "cell_type": "markdown",
   "metadata": {},
   "source": [
    "Before anything else, the aforementioned metadata artifacts are removed from the lyrics. \n",
    "\n",
    "Then using the Lang Id Clasifier [1] the language of the lyrics is determined. If the language could not be detected (the model was uncertain about the primary language), or if it primarily contains a language not supported by the LabMT sentiment scoring [2] [3], then the artist/song is skipped.\n",
    "\n",
    "The tokenizer is chosen based on the language detected. If the language is Korean, then a tokenizer from KoNLPy [4] is used. The specific tokenizer is the Open Korean Text by Will Hohyon Ryu [5]. This tokenizer provides Korean segmentation, normalization and stemming so that the segmented tokens can be looked up in the LabMT Korean sentiment dictionary. Otherwise, the NLTK word tokenizer [6] is used.\n",
    "\n",
    "After a tokenizer is chosen the lyrics are cleaned up for punctuation and converted to lower-case.\n",
    "\n",
    "After pre-processing, the lyrics are tokenized using the respective tokenizer and the tokens and their sentimental values are saved to the dataframe.\n",
    "\n",
    "Note: Due to some dirty crowdsourced data, lyrics with more than 10,000 characters are skipped to avoid spam or other unwanted data.\n",
    "\n",
    "Here are examples of all steps applied to the lyrics of the top song of \"Taylor Swift\":"
   ]
  },
  {
   "cell_type": "code",
   "execution_count": 9,
   "metadata": {},
   "outputs": [
    {
     "name": "stdout",
     "output_type": "stream",
     "text": [
      "Cleaned genius artifacts, here the first 200 characters of the lyrics:\n",
      "\n",
      "[Verse 1]\n",
      "I walked through the door with you, the air was cold\n",
      "But somethin' 'bout it felt like home somehow\n",
      "And I left my scarf there at your sister's house\n",
      "And you've still got it in your drawer, ev\n",
      "Note the title is now removed in the beginning.\n",
      "-----------------------------------------------------------\n",
      "Cleaned up punctuation and lower case, here the first 200 characters of the lyrics:\n",
      "\n",
      "verse 1\n",
      "i walked through the door with you the air was cold\n",
      "but somethin bout it felt like home somehow\n",
      "and i left my scarf there at your sisters house\n",
      "and youve still got it in your drawer even now\n",
      "\n",
      "\n",
      "\n",
      "Here are the first 15 tokens of the cleaned lyrics:\n",
      " verse  |    1    |    i    | walked  | through |   the   |  door   |  with   |   you   |   the   |   air   |   was   |  cold  \n",
      " 0.84   |    0    |  0.12   |    1    |   0.2   |   0.2   |  -0.68  |  0.94   |  1.58   |   0.2   |  1.62   |  -0.16  |  -0.54 \n",
      "\n",
      "Taylor Swift's language is 'en' with probability 1.0\n",
      "Taylor Swift's mean sentiment (over the whole song) is 0.533\n",
      "Taylor Swift's mean emotion (over the whole song) is 0.7124\n"
     ]
    }
   ],
   "source": [
    "genius_intro = taylor_genius.title+\" Lyrics\"\n",
    "\n",
    "if taylor_lyrics.startswith(genius_intro):\n",
    "    taylor_lyrics = taylor_lyrics[len(genius_intro):]\n",
    "if taylor_lyrics.endswith(\"Embed\"):\n",
    "    taylor_lyrics = taylor_lyrics[:-5]\n",
    "    \n",
    "print(\"Cleaned genius artifacts, here the first 200 characters of the lyrics:\")\n",
    "print()\n",
    "print(taylor_lyrics[:200])\n",
    "print(\"Note the title is now removed in the beginning.\")\n",
    "print(\"-----------------------------------------------------------\")\n",
    "taylor_lyrics = taylor_lyrics.translate(table).lower()\n",
    "print(\"Cleaned up punctuation and lower case, here the first 200 characters of the lyrics:\")\n",
    "print()\n",
    "print(taylor_lyrics[:200])\n",
    "print()\n",
    "taylor_tokens = [tok for tok in word_tokenize(taylor_lyrics)]\n",
    "taylor_sentiments = [token_sentiment.get(tok, 5)-5 for tok in taylor_tokens]\n",
    "taylor_mean_sentiment = np.mean(taylor_sentiments)\n",
    "taylor_mean_emotion = np.mean(np.abs(taylor_sentiments))\n",
    "print(\"Here are the first 15 tokens of the cleaned lyrics:\")\n",
    "print(\" | \".join([f\"{tok:^7}\" for tok in taylor_tokens[:13]]))\n",
    "print(\" | \".join([f\"{sen:^7.4g}\" for sen in taylor_sentiments[:13]]))\n",
    "print()\n",
    "taylor_language,taylor_language_prob = lang_classify(taylor_lyrics)\n",
    "print(f\"Taylor Swift's language is '{taylor_language}' with probability {taylor_language_prob}\")\n",
    "print(f\"Taylor Swift's mean sentiment (over the whole song) is {taylor_mean_sentiment:.4g}\")\n",
    "print(f\"Taylor Swift's mean emotion (over the whole song) is {taylor_mean_emotion:.4g}\")"
   ]
  },
  {
   "cell_type": "markdown",
   "metadata": {},
   "source": [
    "As shown, the language was detected as English with 100% certainty, and her lyrics are generally emotional and with a positive sentiment.\n",
    "\n",
    "Note that \"verse\" has a positive sentiment, even though it is not directly part of the lyrics and is a meta-part of the lyrics representation. This will be fixed later when the sentiment analysis is performed by removing meta-parts.\n",
    "\n",
    "Below are the number of songs for each language:"
   ]
  },
  {
   "cell_type": "code",
   "execution_count": 15,
   "metadata": {},
   "outputs": [
    {
     "name": "stdout",
     "output_type": "stream",
     "text": [
      "language\n",
      "de     1133\n",
      "en    38496\n",
      "es     1929\n",
      "fr     1068\n",
      "hi       12\n",
      "id      147\n",
      "ko      664\n",
      "pt     1084\n",
      "ru      299\n",
      "Name: has_sentiment, dtype: int64\n"
     ]
    }
   ],
   "source": [
    "print(df.groupby(['language']).count()['has_sentiment'])"
   ]
  },
  {
   "cell_type": "markdown",
   "metadata": {},
   "source": [
    "Below is the distribution of lyric lengths:"
   ]
  },
  {
   "cell_type": "code",
   "execution_count": 16,
   "metadata": {},
   "outputs": [
    {
     "data": {
      "image/png": "[encoded data removed]",
      "image/svg+xml": "<?xml version=\"1.0\" encoding=\"utf-8\" standalone=\"no\"?>\n<!DOCTYPE svg PUBLIC \"-//W3C//DTD SVG 1.1//EN\"\n  \"http://www.w3.org/Graphics/SVG/1.1/DTD/svg11.dtd\">\n<svg xmlns:xlink=\"http://www.w3.org/1999/xlink\" width=\"396.13817pt\" height=\"262.19625pt\" viewBox=\"0 0 396.13817 262.19625\" xmlns=\"http://www.w3.org/2000/svg\" version=\"1.1\">\n <metadata>\n  <rdf:RDF xmlns:dc=\"http://purl.org/dc/elements/1.1/\" xmlns:cc=\"http://creativecommons.org/ns#\" xmlns:rdf=\"http://www.w3.org/1999/02/22-rdf-syntax-ns#\">\n   <cc:Work>\n    <dc:type rdf:resource=\"http://purl.org/dc/dcmitype/StillImage\"/>\n    <dc:date>2022-05-04T22:41:43.638314</dc:date>\n    <dc:format>image/svg+xml</dc:format>\n    <dc:creator>\n     <cc:Agent>\n      <dc:title>Matplotlib v3.5.0, https://matplotlib.org/</dc:title>\n     </cc:Agent>\n    </dc:creator>\n   </cc:Work>\n  </rdf:RDF>\n </metadata>\n <defs>\n  <style type=\"text/css\">*{stroke-linejoin: round; stroke-linecap: butt}</style>\n </defs>\n <g id=\"figure_1\">\n  <g id=\"patch_1\">\n   <path d=\"M 0 262.19625 \nL 396.13817 262.19625 \nL 396.13817 0 \nL 0 0 \nL 0 262.19625 \nz\n\" style=\"fill: none\"/>\n  </g>\n  <g id=\"axes_1\">\n   <g id=\"patch_2\">\n    <path d=\"M 53.328125 224.64 \nL 388.128125 224.64 \nL 388.128125 7.2 \nL 53.328125 7.2 \nz\n\" style=\"fill: #ffffff\"/>\n   </g>\n   <g id=\"patch_3\">\n    <path d=\"M 68.546307 224.64 \nL 71.589943 224.64 \nL 71.589943 200.675761 \nL 68.546307 200.675761 \nz\n\" clip-path=\"url(#p1fda3b129a)\" style=\"fill: #1f77b4\"/>\n   </g>\n   <g id=\"patch_4\">\n    <path d=\"M 71.589943 224.64 \nL 74.63358 224.64 \nL 74.63358 207.455118 \nL 71.589943 207.455118 \nz\n\" clip-path=\"url(#p1fda3b129a)\" style=\"fill: #1f77b4\"/>\n   </g>\n   <g id=\"patch_5\">\n    <path d=\"M 74.63358 224.64 \nL 77.677216 224.64 \nL 77.677216 195.709487 \nL 74.63358 195.709487 \nz\n\" clip-path=\"url(#p1fda3b129a)\" style=\"fill: #1f77b4\"/>\n   </g>\n   <g id=\"patch_6\">\n    <path d=\"M 77.677216 224.64 \nL 80.720852 224.64 \nL 80.720852 176.002053 \nL 77.677216 176.002053 \nz\n\" clip-path=\"url(#p1fda3b129a)\" style=\"fill: #1f77b4\"/>\n   </g>\n   <g id=\"patch_7\">\n    <path d=\"M 80.720852 224.64 \nL 83.764489 224.64 \nL 83.764489 152.274303 \nL 80.720852 152.274303 \nz\n\" clip-path=\"url(#p1fda3b129a)\" style=\"fill: #1f77b4\"/>\n   </g>\n   <g id=\"patch_8\">\n    <path d=\"M 83.764489 224.64 \nL 86.808125 224.64 \nL 86.808125 119.086985 \nL 83.764489 119.086985 \nz\n\" clip-path=\"url(#p1fda3b129a)\" style=\"fill: #1f77b4\"/>\n   </g>\n   <g id=\"patch_9\">\n    <path d=\"M 86.808125 224.64 \nL 89.851761 224.64 \nL 89.851761 92.600194 \nL 86.808125 92.600194 \nz\n\" clip-path=\"url(#p1fda3b129a)\" style=\"fill: #1f77b4\"/>\n   </g>\n   <g id=\"patch_10\">\n    <path d=\"M 89.851761 224.64 \nL 92.895398 224.64 \nL 92.895398 72.262122 \nL 89.851761 72.262122 \nz\n\" clip-path=\"url(#p1fda3b129a)\" style=\"fill: #1f77b4\"/>\n   </g>\n   <g id=\"patch_11\">\n    <path d=\"M 92.895398 224.64 \nL 95.939034 224.64 \nL 95.939034 51.92405 \nL 92.895398 51.92405 \nz\n\" clip-path=\"url(#p1fda3b129a)\" style=\"fill: #1f77b4\"/>\n   </g>\n   <g id=\"patch_12\">\n    <path d=\"M 95.939034 224.64 \nL 98.98267 224.64 \nL 98.98267 31.901298 \nL 95.939034 31.901298 \nz\n\" clip-path=\"url(#p1fda3b129a)\" style=\"fill: #1f77b4\"/>\n   </g>\n   <g id=\"patch_13\">\n    <path d=\"M 98.98267 224.64 \nL 102.026307 224.64 \nL 102.026307 25.910238 \nL 98.98267 25.910238 \nz\n\" clip-path=\"url(#p1fda3b129a)\" style=\"fill: #1f77b4\"/>\n   </g>\n   <g id=\"patch_14\">\n    <path d=\"M 102.026307 224.64 \nL 105.069943 224.64 \nL 105.069943 17.554286 \nL 102.026307 17.554286 \nz\n\" clip-path=\"url(#p1fda3b129a)\" style=\"fill: #1f77b4\"/>\n   </g>\n   <g id=\"patch_15\">\n    <path d=\"M 105.069943 224.64 \nL 108.11358 224.64 \nL 108.11358 19.28854 \nL 105.069943 19.28854 \nz\n\" clip-path=\"url(#p1fda3b129a)\" style=\"fill: #1f77b4\"/>\n   </g>\n   <g id=\"patch_16\">\n    <path d=\"M 108.11358 224.64 \nL 111.157216 224.64 \nL 111.157216 28.905768 \nL 108.11358 28.905768 \nz\n\" clip-path=\"url(#p1fda3b129a)\" style=\"fill: #1f77b4\"/>\n   </g>\n   <g id=\"patch_17\">\n    <path d=\"M 111.157216 224.64 \nL 114.200852 224.64 \nL 114.200852 37.734698 \nL 111.157216 37.734698 \nz\n\" clip-path=\"url(#p1fda3b129a)\" style=\"fill: #1f77b4\"/>\n   </g>\n   <g id=\"patch_18\">\n    <path d=\"M 114.200852 224.64 \nL 117.244489 224.64 \nL 117.244489 53.737134 \nL 114.200852 53.737134 \nz\n\" clip-path=\"url(#p1fda3b129a)\" style=\"fill: #1f77b4\"/>\n   </g>\n   <g id=\"patch_19\">\n    <path d=\"M 117.244489 224.64 \nL 120.288125 224.64 \nL 120.288125 60.122343 \nL 117.244489 60.122343 \nz\n\" clip-path=\"url(#p1fda3b129a)\" style=\"fill: #1f77b4\"/>\n   </g>\n   <g id=\"patch_20\">\n    <path d=\"M 120.288125 224.64 \nL 123.331761 224.64 \nL 123.331761 79.750947 \nL 120.288125 79.750947 \nz\n\" clip-path=\"url(#p1fda3b129a)\" style=\"fill: #1f77b4\"/>\n   </g>\n   <g id=\"patch_21\">\n    <path d=\"M 123.331761 224.64 \nL 126.375398 224.64 \nL 126.375398 98.670083 \nL 123.331761 98.670083 \nz\n\" clip-path=\"url(#p1fda3b129a)\" style=\"fill: #1f77b4\"/>\n   </g>\n   <g id=\"patch_22\">\n    <path d=\"M 126.375398 224.64 \nL 129.419034 224.64 \nL 129.419034 110.021565 \nL 126.375398 110.021565 \nz\n\" clip-path=\"url(#p1fda3b129a)\" style=\"fill: #1f77b4\"/>\n   </g>\n   <g id=\"patch_23\">\n    <path d=\"M 129.419034 224.64 \nL 132.46267 224.64 \nL 132.46267 118.692836 \nL 129.419034 118.692836 \nz\n\" clip-path=\"url(#p1fda3b129a)\" style=\"fill: #1f77b4\"/>\n   </g>\n   <g id=\"patch_24\">\n    <path d=\"M 132.46267 224.64 \nL 135.506307 224.64 \nL 135.506307 132.48804 \nL 132.46267 132.48804 \nz\n\" clip-path=\"url(#p1fda3b129a)\" style=\"fill: #1f77b4\"/>\n   </g>\n   <g id=\"patch_25\">\n    <path d=\"M 135.506307 224.64 \nL 138.549943 224.64 \nL 138.549943 138.636759 \nL 135.506307 138.636759 \nz\n\" clip-path=\"url(#p1fda3b129a)\" style=\"fill: #1f77b4\"/>\n   </g>\n   <g id=\"patch_26\">\n    <path d=\"M 138.549943 224.64 \nL 141.59358 224.64 \nL 141.59358 143.603032 \nL 138.549943 143.603032 \nz\n\" clip-path=\"url(#p1fda3b129a)\" style=\"fill: #1f77b4\"/>\n   </g>\n   <g id=\"patch_27\">\n    <path d=\"M 141.59358 224.64 \nL 144.637216 224.64 \nL 144.637216 153.614409 \nL 141.59358 153.614409 \nz\n\" clip-path=\"url(#p1fda3b129a)\" style=\"fill: #1f77b4\"/>\n   </g>\n   <g id=\"patch_28\">\n    <path d=\"M 144.637216 224.64 \nL 147.680852 224.64 \nL 147.680852 162.12802 \nL 144.637216 162.12802 \nz\n\" clip-path=\"url(#p1fda3b129a)\" style=\"fill: #1f77b4\"/>\n   </g>\n   <g id=\"patch_29\">\n    <path d=\"M 147.680852 224.64 \nL 150.724489 224.64 \nL 150.724489 162.20685 \nL 147.680852 162.20685 \nz\n\" clip-path=\"url(#p1fda3b129a)\" style=\"fill: #1f77b4\"/>\n   </g>\n   <g id=\"patch_30\">\n    <path d=\"M 150.724489 224.64 \nL 153.768125 224.64 \nL 153.768125 168.592058 \nL 150.724489 168.592058 \nz\n\" clip-path=\"url(#p1fda3b129a)\" style=\"fill: #1f77b4\"/>\n   </g>\n   <g id=\"patch_31\">\n    <path d=\"M 153.768125 224.64 \nL 156.811761 224.64 \nL 156.811761 169.143866 \nL 153.768125 169.143866 \nz\n\" clip-path=\"url(#p1fda3b129a)\" style=\"fill: #1f77b4\"/>\n   </g>\n   <g id=\"patch_32\">\n    <path d=\"M 156.811761 224.64 \nL 159.855398 224.64 \nL 159.855398 175.213756 \nL 156.811761 175.213756 \nz\n\" clip-path=\"url(#p1fda3b129a)\" style=\"fill: #1f77b4\"/>\n   </g>\n   <g id=\"patch_33\">\n    <path d=\"M 159.855398 224.64 \nL 162.899034 224.64 \nL 162.899034 175.371416 \nL 159.855398 175.371416 \nz\n\" clip-path=\"url(#p1fda3b129a)\" style=\"fill: #1f77b4\"/>\n   </g>\n   <g id=\"patch_34\">\n    <path d=\"M 162.899034 224.64 \nL 165.94267 224.64 \nL 165.94267 178.445775 \nL 162.899034 178.445775 \nz\n\" clip-path=\"url(#p1fda3b129a)\" style=\"fill: #1f77b4\"/>\n   </g>\n   <g id=\"patch_35\">\n    <path d=\"M 165.94267 224.64 \nL 168.986307 224.64 \nL 168.986307 187.432365 \nL 165.94267 187.432365 \nz\n\" clip-path=\"url(#p1fda3b129a)\" style=\"fill: #1f77b4\"/>\n   </g>\n   <g id=\"patch_36\">\n    <path d=\"M 168.986307 224.64 \nL 172.029943 224.64 \nL 172.029943 186.407578 \nL 168.986307 186.407578 \nz\n\" clip-path=\"url(#p1fda3b129a)\" style=\"fill: #1f77b4\"/>\n   </g>\n   <g id=\"patch_37\">\n    <path d=\"M 172.029943 224.64 \nL 175.07358 224.64 \nL 175.07358 191.768 \nL 172.029943 191.768 \nz\n\" clip-path=\"url(#p1fda3b129a)\" style=\"fill: #1f77b4\"/>\n   </g>\n   <g id=\"patch_38\">\n    <path d=\"M 175.07358 224.64 \nL 178.117216 224.64 \nL 178.117216 198.389698 \nL 175.07358 198.389698 \nz\n\" clip-path=\"url(#p1fda3b129a)\" style=\"fill: #1f77b4\"/>\n   </g>\n   <g id=\"patch_39\">\n    <path d=\"M 178.117216 224.64 \nL 181.160852 224.64 \nL 181.160852 197.680231 \nL 178.117216 197.680231 \nz\n\" clip-path=\"url(#p1fda3b129a)\" style=\"fill: #1f77b4\"/>\n   </g>\n   <g id=\"patch_40\">\n    <path d=\"M 181.160852 224.64 \nL 184.204489 224.64 \nL 184.204489 199.256825 \nL 181.160852 199.256825 \nz\n\" clip-path=\"url(#p1fda3b129a)\" style=\"fill: #1f77b4\"/>\n   </g>\n   <g id=\"patch_41\">\n    <path d=\"M 184.204489 224.64 \nL 187.248125 224.64 \nL 187.248125 202.804163 \nL 184.204489 202.804163 \nz\n\" clip-path=\"url(#p1fda3b129a)\" style=\"fill: #1f77b4\"/>\n   </g>\n   <g id=\"patch_42\">\n    <path d=\"M 187.248125 224.64 \nL 190.291761 224.64 \nL 190.291761 203.277142 \nL 187.248125 203.277142 \nz\n\" clip-path=\"url(#p1fda3b129a)\" style=\"fill: #1f77b4\"/>\n   </g>\n   <g id=\"patch_43\">\n    <path d=\"M 190.291761 224.64 \nL 193.335398 224.64 \nL 193.335398 206.036183 \nL 190.291761 206.036183 \nz\n\" clip-path=\"url(#p1fda3b129a)\" style=\"fill: #1f77b4\"/>\n   </g>\n   <g id=\"patch_44\">\n    <path d=\"M 193.335398 224.64 \nL 196.379034 224.64 \nL 196.379034 208.952883 \nL 193.335398 208.952883 \nz\n\" clip-path=\"url(#p1fda3b129a)\" style=\"fill: #1f77b4\"/>\n   </g>\n   <g id=\"patch_45\">\n    <path d=\"M 196.379034 224.64 \nL 199.42267 224.64 \nL 199.42267 209.583521 \nL 196.379034 209.583521 \nz\n\" clip-path=\"url(#p1fda3b129a)\" style=\"fill: #1f77b4\"/>\n   </g>\n   <g id=\"patch_46\">\n    <path d=\"M 199.42267 224.64 \nL 202.466307 224.64 \nL 202.466307 210.765967 \nL 199.42267 210.765967 \nz\n\" clip-path=\"url(#p1fda3b129a)\" style=\"fill: #1f77b4\"/>\n   </g>\n   <g id=\"patch_47\">\n    <path d=\"M 202.466307 224.64 \nL 205.509943 224.64 \nL 205.509943 211.948413 \nL 202.466307 211.948413 \nz\n\" clip-path=\"url(#p1fda3b129a)\" style=\"fill: #1f77b4\"/>\n   </g>\n   <g id=\"patch_48\">\n    <path d=\"M 205.509943 224.64 \nL 208.55358 224.64 \nL 208.55358 213.919156 \nL 205.509943 213.919156 \nz\n\" clip-path=\"url(#p1fda3b129a)\" style=\"fill: #1f77b4\"/>\n   </g>\n   <g id=\"patch_49\">\n    <path d=\"M 208.55358 224.64 \nL 211.597216 224.64 \nL 211.597216 213.525007 \nL 208.55358 213.525007 \nz\n\" clip-path=\"url(#p1fda3b129a)\" style=\"fill: #1f77b4\"/>\n   </g>\n   <g id=\"patch_50\">\n    <path d=\"M 211.597216 224.64 \nL 214.640852 224.64 \nL 214.640852 215.338091 \nL 211.597216 215.338091 \nz\n\" clip-path=\"url(#p1fda3b129a)\" style=\"fill: #1f77b4\"/>\n   </g>\n   <g id=\"patch_51\">\n    <path d=\"M 214.640852 224.64 \nL 217.684489 224.64 \nL 217.684489 215.73224 \nL 214.640852 215.73224 \nz\n\" clip-path=\"url(#p1fda3b129a)\" style=\"fill: #1f77b4\"/>\n   </g>\n   <g id=\"patch_52\">\n    <path d=\"M 217.684489 224.64 \nL 220.728125 224.64 \nL 220.728125 216.441708 \nL 217.684489 216.441708 \nz\n\" clip-path=\"url(#p1fda3b129a)\" style=\"fill: #1f77b4\"/>\n   </g>\n   <g id=\"patch_53\">\n    <path d=\"M 220.728125 224.64 \nL 223.771761 224.64 \nL 223.771761 217.860643 \nL 220.728125 217.860643 \nz\n\" clip-path=\"url(#p1fda3b129a)\" style=\"fill: #1f77b4\"/>\n   </g>\n   <g id=\"patch_54\">\n    <path d=\"M 223.771761 224.64 \nL 226.815398 224.64 \nL 226.815398 216.599367 \nL 223.771761 216.599367 \nz\n\" clip-path=\"url(#p1fda3b129a)\" style=\"fill: #1f77b4\"/>\n   </g>\n   <g id=\"patch_55\">\n    <path d=\"M 226.815398 224.64 \nL 229.859034 224.64 \nL 229.859034 218.097132 \nL 226.815398 218.097132 \nz\n\" clip-path=\"url(#p1fda3b129a)\" style=\"fill: #1f77b4\"/>\n   </g>\n   <g id=\"patch_56\">\n    <path d=\"M 229.859034 224.64 \nL 232.90267 224.64 \nL 232.90267 217.072345 \nL 229.859034 217.072345 \nz\n\" clip-path=\"url(#p1fda3b129a)\" style=\"fill: #1f77b4\"/>\n   </g>\n   <g id=\"patch_57\">\n    <path d=\"M 232.90267 224.64 \nL 235.946307 224.64 \nL 235.946307 217.466494 \nL 232.90267 217.466494 \nz\n\" clip-path=\"url(#p1fda3b129a)\" style=\"fill: #1f77b4\"/>\n   </g>\n   <g id=\"patch_58\">\n    <path d=\"M 235.946307 224.64 \nL 238.989943 224.64 \nL 238.989943 220.383194 \nL 235.946307 220.383194 \nz\n\" clip-path=\"url(#p1fda3b129a)\" style=\"fill: #1f77b4\"/>\n   </g>\n   <g id=\"patch_59\">\n    <path d=\"M 238.989943 224.64 \nL 242.03358 224.64 \nL 242.03358 219.673727 \nL 238.989943 219.673727 \nz\n\" clip-path=\"url(#p1fda3b129a)\" style=\"fill: #1f77b4\"/>\n   </g>\n   <g id=\"patch_60\">\n    <path d=\"M 242.03358 224.64 \nL 245.077216 224.64 \nL 245.077216 220.698513 \nL 242.03358 220.698513 \nz\n\" clip-path=\"url(#p1fda3b129a)\" style=\"fill: #1f77b4\"/>\n   </g>\n   <g id=\"patch_61\">\n    <path d=\"M 245.077216 224.64 \nL 248.120852 224.64 \nL 248.120852 220.383194 \nL 245.077216 220.383194 \nz\n\" clip-path=\"url(#p1fda3b129a)\" style=\"fill: #1f77b4\"/>\n   </g>\n   <g id=\"patch_62\">\n    <path d=\"M 248.120852 224.64 \nL 251.164489 224.64 \nL 251.164489 220.383194 \nL 248.120852 220.383194 \nz\n\" clip-path=\"url(#p1fda3b129a)\" style=\"fill: #1f77b4\"/>\n   </g>\n   <g id=\"patch_63\">\n    <path d=\"M 251.164489 224.64 \nL 254.208125 224.64 \nL 254.208125 220.462024 \nL 251.164489 220.462024 \nz\n\" clip-path=\"url(#p1fda3b129a)\" style=\"fill: #1f77b4\"/>\n   </g>\n   <g id=\"patch_64\">\n    <path d=\"M 254.208125 224.64 \nL 257.251761 224.64 \nL 257.251761 220.619684 \nL 254.208125 220.619684 \nz\n\" clip-path=\"url(#p1fda3b129a)\" style=\"fill: #1f77b4\"/>\n   </g>\n   <g id=\"patch_65\">\n    <path d=\"M 257.251761 224.64 \nL 260.295398 224.64 \nL 260.295398 221.329151 \nL 257.251761 221.329151 \nz\n\" clip-path=\"url(#p1fda3b129a)\" style=\"fill: #1f77b4\"/>\n   </g>\n   <g id=\"patch_66\">\n    <path d=\"M 260.295398 224.64 \nL 263.339034 224.64 \nL 263.339034 222.353938 \nL 260.295398 222.353938 \nz\n\" clip-path=\"url(#p1fda3b129a)\" style=\"fill: #1f77b4\"/>\n   </g>\n   <g id=\"patch_67\">\n    <path d=\"M 263.339034 224.64 \nL 266.38267 224.64 \nL 266.38267 221.329151 \nL 263.339034 221.329151 \nz\n\" clip-path=\"url(#p1fda3b129a)\" style=\"fill: #1f77b4\"/>\n   </g>\n   <g id=\"patch_68\">\n    <path d=\"M 266.38267 224.64 \nL 269.426307 224.64 \nL 269.426307 222.826916 \nL 266.38267 222.826916 \nz\n\" clip-path=\"url(#p1fda3b129a)\" style=\"fill: #1f77b4\"/>\n   </g>\n   <g id=\"patch_69\">\n    <path d=\"M 269.426307 224.64 \nL 272.469943 224.64 \nL 272.469943 221.880959 \nL 269.426307 221.880959 \nz\n\" clip-path=\"url(#p1fda3b129a)\" style=\"fill: #1f77b4\"/>\n   </g>\n   <g id=\"patch_70\">\n    <path d=\"M 272.469943 224.64 \nL 275.51358 224.64 \nL 275.51358 222.748086 \nL 272.469943 222.748086 \nz\n\" clip-path=\"url(#p1fda3b129a)\" style=\"fill: #1f77b4\"/>\n   </g>\n   <g id=\"patch_71\">\n    <path d=\"M 275.51358 224.64 \nL 278.557216 224.64 \nL 278.557216 222.117448 \nL 275.51358 222.117448 \nz\n\" clip-path=\"url(#p1fda3b129a)\" style=\"fill: #1f77b4\"/>\n   </g>\n   <g id=\"patch_72\">\n    <path d=\"M 278.557216 224.64 \nL 281.600852 224.64 \nL 281.600852 223.299895 \nL 278.557216 223.299895 \nz\n\" clip-path=\"url(#p1fda3b129a)\" style=\"fill: #1f77b4\"/>\n   </g>\n   <g id=\"patch_73\">\n    <path d=\"M 281.600852 224.64 \nL 284.644489 224.64 \nL 284.644489 222.511597 \nL 281.600852 222.511597 \nz\n\" clip-path=\"url(#p1fda3b129a)\" style=\"fill: #1f77b4\"/>\n   </g>\n   <g id=\"patch_74\">\n    <path d=\"M 284.644489 224.64 \nL 287.688125 224.64 \nL 287.688125 222.432767 \nL 284.644489 222.432767 \nz\n\" clip-path=\"url(#p1fda3b129a)\" style=\"fill: #1f77b4\"/>\n   </g>\n   <g id=\"patch_75\">\n    <path d=\"M 287.688125 224.64 \nL 290.731761 224.64 \nL 290.731761 221.880959 \nL 287.688125 221.880959 \nz\n\" clip-path=\"url(#p1fda3b129a)\" style=\"fill: #1f77b4\"/>\n   </g>\n   <g id=\"patch_76\">\n    <path d=\"M 290.731761 224.64 \nL 293.775398 224.64 \nL 293.775398 222.748086 \nL 290.731761 222.748086 \nz\n\" clip-path=\"url(#p1fda3b129a)\" style=\"fill: #1f77b4\"/>\n   </g>\n   <g id=\"patch_77\">\n    <path d=\"M 293.775398 224.64 \nL 296.819034 224.64 \nL 296.819034 222.117448 \nL 293.775398 222.117448 \nz\n\" clip-path=\"url(#p1fda3b129a)\" style=\"fill: #1f77b4\"/>\n   </g>\n   <g id=\"patch_78\">\n    <path d=\"M 296.819034 224.64 \nL 299.86267 224.64 \nL 299.86267 222.669257 \nL 296.819034 222.669257 \nz\n\" clip-path=\"url(#p1fda3b129a)\" style=\"fill: #1f77b4\"/>\n   </g>\n   <g id=\"patch_79\">\n    <path d=\"M 299.86267 224.64 \nL 302.906307 224.64 \nL 302.906307 221.250321 \nL 299.86267 221.250321 \nz\n\" clip-path=\"url(#p1fda3b129a)\" style=\"fill: #1f77b4\"/>\n   </g>\n   <g id=\"patch_80\">\n    <path d=\"M 302.906307 224.64 \nL 305.949943 224.64 \nL 305.949943 222.196278 \nL 302.906307 222.196278 \nz\n\" clip-path=\"url(#p1fda3b129a)\" style=\"fill: #1f77b4\"/>\n   </g>\n   <g id=\"patch_81\">\n    <path d=\"M 305.949943 224.64 \nL 308.99358 224.64 \nL 308.99358 222.590427 \nL 305.949943 222.590427 \nz\n\" clip-path=\"url(#p1fda3b129a)\" style=\"fill: #1f77b4\"/>\n   </g>\n   <g id=\"patch_82\">\n    <path d=\"M 308.99358 224.64 \nL 312.037216 224.64 \nL 312.037216 223.221065 \nL 308.99358 223.221065 \nz\n\" clip-path=\"url(#p1fda3b129a)\" style=\"fill: #1f77b4\"/>\n   </g>\n   <g id=\"patch_83\">\n    <path d=\"M 312.037216 224.64 \nL 315.080852 224.64 \nL 315.080852 223.536384 \nL 312.037216 223.536384 \nz\n\" clip-path=\"url(#p1fda3b129a)\" style=\"fill: #1f77b4\"/>\n   </g>\n   <g id=\"patch_84\">\n    <path d=\"M 315.080852 224.64 \nL 318.124489 224.64 \nL 318.124489 223.142235 \nL 315.080852 223.142235 \nz\n\" clip-path=\"url(#p1fda3b129a)\" style=\"fill: #1f77b4\"/>\n   </g>\n   <g id=\"patch_85\">\n    <path d=\"M 318.124489 224.64 \nL 321.168125 224.64 \nL 321.168125 222.511597 \nL 318.124489 222.511597 \nz\n\" clip-path=\"url(#p1fda3b129a)\" style=\"fill: #1f77b4\"/>\n   </g>\n   <g id=\"patch_86\">\n    <path d=\"M 321.168125 224.64 \nL 324.211761 224.64 \nL 324.211761 223.063405 \nL 321.168125 223.063405 \nz\n\" clip-path=\"url(#p1fda3b129a)\" style=\"fill: #1f77b4\"/>\n   </g>\n   <g id=\"patch_87\">\n    <path d=\"M 324.211761 224.64 \nL 327.255398 224.64 \nL 327.255398 222.511597 \nL 324.211761 222.511597 \nz\n\" clip-path=\"url(#p1fda3b129a)\" style=\"fill: #1f77b4\"/>\n   </g>\n   <g id=\"patch_88\">\n    <path d=\"M 327.255398 224.64 \nL 330.299034 224.64 \nL 330.299034 223.063405 \nL 327.255398 223.063405 \nz\n\" clip-path=\"url(#p1fda3b129a)\" style=\"fill: #1f77b4\"/>\n   </g>\n   <g id=\"patch_89\">\n    <path d=\"M 330.299034 224.64 \nL 333.34267 224.64 \nL 333.34267 222.669257 \nL 330.299034 222.669257 \nz\n\" clip-path=\"url(#p1fda3b129a)\" style=\"fill: #1f77b4\"/>\n   </g>\n   <g id=\"patch_90\">\n    <path d=\"M 333.34267 224.64 \nL 336.386307 224.64 \nL 336.386307 222.590427 \nL 333.34267 222.590427 \nz\n\" clip-path=\"url(#p1fda3b129a)\" style=\"fill: #1f77b4\"/>\n   </g>\n   <g id=\"patch_91\">\n    <path d=\"M 336.386307 224.64 \nL 339.429943 224.64 \nL 339.429943 222.511597 \nL 336.386307 222.511597 \nz\n\" clip-path=\"url(#p1fda3b129a)\" style=\"fill: #1f77b4\"/>\n   </g>\n   <g id=\"patch_92\">\n    <path d=\"M 339.429943 224.64 \nL 342.47358 224.64 \nL 342.47358 222.590427 \nL 339.429943 222.590427 \nz\n\" clip-path=\"url(#p1fda3b129a)\" style=\"fill: #1f77b4\"/>\n   </g>\n   <g id=\"patch_93\">\n    <path d=\"M 342.47358 224.64 \nL 345.517216 224.64 \nL 345.517216 221.7233 \nL 342.47358 221.7233 \nz\n\" clip-path=\"url(#p1fda3b129a)\" style=\"fill: #1f77b4\"/>\n   </g>\n   <g id=\"patch_94\">\n    <path d=\"M 345.517216 224.64 \nL 348.560852 224.64 \nL 348.560852 223.615213 \nL 345.517216 223.615213 \nz\n\" clip-path=\"url(#p1fda3b129a)\" style=\"fill: #1f77b4\"/>\n   </g>\n   <g id=\"patch_95\">\n    <path d=\"M 348.560852 224.64 \nL 351.604489 224.64 \nL 351.604489 222.353938 \nL 348.560852 222.353938 \nz\n\" clip-path=\"url(#p1fda3b129a)\" style=\"fill: #1f77b4\"/>\n   </g>\n   <g id=\"patch_96\">\n    <path d=\"M 351.604489 224.64 \nL 354.648125 224.64 \nL 354.648125 223.142235 \nL 351.604489 223.142235 \nz\n\" clip-path=\"url(#p1fda3b129a)\" style=\"fill: #1f77b4\"/>\n   </g>\n   <g id=\"patch_97\">\n    <path d=\"M 354.648125 224.64 \nL 357.691761 224.64 \nL 357.691761 223.536384 \nL 354.648125 223.536384 \nz\n\" clip-path=\"url(#p1fda3b129a)\" style=\"fill: #1f77b4\"/>\n   </g>\n   <g id=\"patch_98\">\n    <path d=\"M 357.691761 224.64 \nL 360.735398 224.64 \nL 360.735398 223.063405 \nL 357.691761 223.063405 \nz\n\" clip-path=\"url(#p1fda3b129a)\" style=\"fill: #1f77b4\"/>\n   </g>\n   <g id=\"patch_99\">\n    <path d=\"M 360.735398 224.64 \nL 363.779034 224.64 \nL 363.779034 223.536384 \nL 360.735398 223.536384 \nz\n\" clip-path=\"url(#p1fda3b129a)\" style=\"fill: #1f77b4\"/>\n   </g>\n   <g id=\"patch_100\">\n    <path d=\"M 363.779034 224.64 \nL 366.82267 224.64 \nL 366.82267 223.378724 \nL 363.779034 223.378724 \nz\n\" clip-path=\"url(#p1fda3b129a)\" style=\"fill: #1f77b4\"/>\n   </g>\n   <g id=\"patch_101\">\n    <path d=\"M 366.82267 224.64 \nL 369.866307 224.64 \nL 369.866307 223.615213 \nL 366.82267 223.615213 \nz\n\" clip-path=\"url(#p1fda3b129a)\" style=\"fill: #1f77b4\"/>\n   </g>\n   <g id=\"patch_102\">\n    <path d=\"M 369.866307 224.64 \nL 372.909943 224.64 \nL 372.909943 223.378724 \nL 369.866307 223.378724 \nz\n\" clip-path=\"url(#p1fda3b129a)\" style=\"fill: #1f77b4\"/>\n   </g>\n   <g id=\"matplotlib.axis_1\">\n    <g id=\"xtick_1\">\n     <g id=\"line2d_1\">\n      <defs>\n       <path id=\"m109d91ac01\" d=\"M 0 0 \nL 0 3.5 \n\" style=\"stroke: #000000; stroke-width: 0.8\"/>\n      </defs>\n      <g>\n       <use xlink:href=\"#m109d91ac01\" x=\"68.088892\" y=\"224.64\" style=\"stroke: #000000; stroke-width: 0.8\"/>\n      </g>\n     </g>\n     <g id=\"text_1\">\n      <!-- 0 -->\n      <g transform=\"translate(64.907642 239.238437)scale(0.1 -0.1)\">\n       <defs>\n        <path id=\"DejaVuSans-30\" d=\"M 2034 4250 \nQ 1547 4250 1301 3770 \nQ 1056 3291 1056 2328 \nQ 1056 1369 1301 889 \nQ 1547 409 2034 409 \nQ 2525 409 2770 889 \nQ 3016 1369 3016 2328 \nQ 3016 3291 2770 3770 \nQ 2525 4250 2034 4250 \nz\nM 2034 4750 \nQ 2819 4750 3233 4129 \nQ 3647 3509 3647 2328 \nQ 3647 1150 3233 529 \nQ 2819 -91 2034 -91 \nQ 1250 -91 836 529 \nQ 422 1150 422 2328 \nQ 422 3509 836 4129 \nQ 1250 4750 2034 4750 \nz\n\" transform=\"scale(0.015625)\"/>\n       </defs>\n       <use xlink:href=\"#DejaVuSans-30\"/>\n      </g>\n     </g>\n    </g>\n    <g id=\"xtick_2\">\n     <g id=\"line2d_2\">\n      <g>\n       <use xlink:href=\"#m109d91ac01\" x=\"129.077498\" y=\"224.64\" style=\"stroke: #000000; stroke-width: 0.8\"/>\n      </g>\n     </g>\n     <g id=\"text_2\">\n      <!-- 2000 -->\n      <g transform=\"translate(116.352498 239.238437)scale(0.1 -0.1)\">\n       <defs>\n        <path id=\"DejaVuSans-32\" d=\"M 1228 531 \nL 3431 531 \nL 3431 0 \nL 469 0 \nL 469 531 \nQ 828 903 1448 1529 \nQ 2069 2156 2228 2338 \nQ 2531 2678 2651 2914 \nQ 2772 3150 2772 3378 \nQ 2772 3750 2511 3984 \nQ 2250 4219 1831 4219 \nQ 1534 4219 1204 4116 \nQ 875 4013 500 3803 \nL 500 4441 \nQ 881 4594 1212 4672 \nQ 1544 4750 1819 4750 \nQ 2544 4750 2975 4387 \nQ 3406 4025 3406 3419 \nQ 3406 3131 3298 2873 \nQ 3191 2616 2906 2266 \nQ 2828 2175 2409 1742 \nQ 1991 1309 1228 531 \nz\n\" transform=\"scale(0.015625)\"/>\n       </defs>\n       <use xlink:href=\"#DejaVuSans-32\"/>\n       <use xlink:href=\"#DejaVuSans-30\" x=\"63.623047\"/>\n       <use xlink:href=\"#DejaVuSans-30\" x=\"127.246094\"/>\n       <use xlink:href=\"#DejaVuSans-30\" x=\"190.869141\"/>\n      </g>\n     </g>\n    </g>\n    <g id=\"xtick_3\">\n     <g id=\"line2d_3\">\n      <g>\n       <use xlink:href=\"#m109d91ac01\" x=\"190.066104\" y=\"224.64\" style=\"stroke: #000000; stroke-width: 0.8\"/>\n      </g>\n     </g>\n     <g id=\"text_3\">\n      <!-- 4000 -->\n      <g transform=\"translate(177.341104 239.238437)scale(0.1 -0.1)\">\n       <defs>\n        <path id=\"DejaVuSans-34\" d=\"M 2419 4116 \nL 825 1625 \nL 2419 1625 \nL 2419 4116 \nz\nM 2253 4666 \nL 3047 4666 \nL 3047 1625 \nL 3713 1625 \nL 3713 1100 \nL 3047 1100 \nL 3047 0 \nL 2419 0 \nL 2419 1100 \nL 313 1100 \nL 313 1709 \nL 2253 4666 \nz\n\" transform=\"scale(0.015625)\"/>\n       </defs>\n       <use xlink:href=\"#DejaVuSans-34\"/>\n       <use xlink:href=\"#DejaVuSans-30\" x=\"63.623047\"/>\n       <use xlink:href=\"#DejaVuSans-30\" x=\"127.246094\"/>\n       <use xlink:href=\"#DejaVuSans-30\" x=\"190.869141\"/>\n      </g>\n     </g>\n    </g>\n    <g id=\"xtick_4\">\n     <g id=\"line2d_4\">\n      <g>\n       <use xlink:href=\"#m109d91ac01\" x=\"251.054709\" y=\"224.64\" style=\"stroke: #000000; stroke-width: 0.8\"/>\n      </g>\n     </g>\n     <g id=\"text_4\">\n      <!-- 6000 -->\n      <g transform=\"translate(238.329709 239.238437)scale(0.1 -0.1)\">\n       <defs>\n        <path id=\"DejaVuSans-36\" d=\"M 2113 2584 \nQ 1688 2584 1439 2293 \nQ 1191 2003 1191 1497 \nQ 1191 994 1439 701 \nQ 1688 409 2113 409 \nQ 2538 409 2786 701 \nQ 3034 994 3034 1497 \nQ 3034 2003 2786 2293 \nQ 2538 2584 2113 2584 \nz\nM 3366 4563 \nL 3366 3988 \nQ 3128 4100 2886 4159 \nQ 2644 4219 2406 4219 \nQ 1781 4219 1451 3797 \nQ 1122 3375 1075 2522 \nQ 1259 2794 1537 2939 \nQ 1816 3084 2150 3084 \nQ 2853 3084 3261 2657 \nQ 3669 2231 3669 1497 \nQ 3669 778 3244 343 \nQ 2819 -91 2113 -91 \nQ 1303 -91 875 529 \nQ 447 1150 447 2328 \nQ 447 3434 972 4092 \nQ 1497 4750 2381 4750 \nQ 2619 4750 2861 4703 \nQ 3103 4656 3366 4563 \nz\n\" transform=\"scale(0.015625)\"/>\n       </defs>\n       <use xlink:href=\"#DejaVuSans-36\"/>\n       <use xlink:href=\"#DejaVuSans-30\" x=\"63.623047\"/>\n       <use xlink:href=\"#DejaVuSans-30\" x=\"127.246094\"/>\n       <use xlink:href=\"#DejaVuSans-30\" x=\"190.869141\"/>\n      </g>\n     </g>\n    </g>\n    <g id=\"xtick_5\">\n     <g id=\"line2d_5\">\n      <g>\n       <use xlink:href=\"#m109d91ac01\" x=\"312.043315\" y=\"224.64\" style=\"stroke: #000000; stroke-width: 0.8\"/>\n      </g>\n     </g>\n     <g id=\"text_5\">\n      <!-- 8000 -->\n      <g transform=\"translate(299.318315 239.238437)scale(0.1 -0.1)\">\n       <defs>\n        <path id=\"DejaVuSans-38\" d=\"M 2034 2216 \nQ 1584 2216 1326 1975 \nQ 1069 1734 1069 1313 \nQ 1069 891 1326 650 \nQ 1584 409 2034 409 \nQ 2484 409 2743 651 \nQ 3003 894 3003 1313 \nQ 3003 1734 2745 1975 \nQ 2488 2216 2034 2216 \nz\nM 1403 2484 \nQ 997 2584 770 2862 \nQ 544 3141 544 3541 \nQ 544 4100 942 4425 \nQ 1341 4750 2034 4750 \nQ 2731 4750 3128 4425 \nQ 3525 4100 3525 3541 \nQ 3525 3141 3298 2862 \nQ 3072 2584 2669 2484 \nQ 3125 2378 3379 2068 \nQ 3634 1759 3634 1313 \nQ 3634 634 3220 271 \nQ 2806 -91 2034 -91 \nQ 1263 -91 848 271 \nQ 434 634 434 1313 \nQ 434 1759 690 2068 \nQ 947 2378 1403 2484 \nz\nM 1172 3481 \nQ 1172 3119 1398 2916 \nQ 1625 2713 2034 2713 \nQ 2441 2713 2670 2916 \nQ 2900 3119 2900 3481 \nQ 2900 3844 2670 4047 \nQ 2441 4250 2034 4250 \nQ 1625 4250 1398 4047 \nQ 1172 3844 1172 3481 \nz\n\" transform=\"scale(0.015625)\"/>\n       </defs>\n       <use xlink:href=\"#DejaVuSans-38\"/>\n       <use xlink:href=\"#DejaVuSans-30\" x=\"63.623047\"/>\n       <use xlink:href=\"#DejaVuSans-30\" x=\"127.246094\"/>\n       <use xlink:href=\"#DejaVuSans-30\" x=\"190.869141\"/>\n      </g>\n     </g>\n    </g>\n    <g id=\"xtick_6\">\n     <g id=\"line2d_6\">\n      <g>\n       <use xlink:href=\"#m109d91ac01\" x=\"373.03192\" y=\"224.64\" style=\"stroke: #000000; stroke-width: 0.8\"/>\n      </g>\n     </g>\n     <g id=\"text_6\">\n      <!-- 10000 -->\n      <g transform=\"translate(357.12567 239.238437)scale(0.1 -0.1)\">\n       <defs>\n        <path id=\"DejaVuSans-31\" d=\"M 794 531 \nL 1825 531 \nL 1825 4091 \nL 703 3866 \nL 703 4441 \nL 1819 4666 \nL 2450 4666 \nL 2450 531 \nL 3481 531 \nL 3481 0 \nL 794 0 \nL 794 531 \nz\n\" transform=\"scale(0.015625)\"/>\n       </defs>\n       <use xlink:href=\"#DejaVuSans-31\"/>\n       <use xlink:href=\"#DejaVuSans-30\" x=\"63.623047\"/>\n       <use xlink:href=\"#DejaVuSans-30\" x=\"127.246094\"/>\n       <use xlink:href=\"#DejaVuSans-30\" x=\"190.869141\"/>\n       <use xlink:href=\"#DejaVuSans-30\" x=\"254.492188\"/>\n      </g>\n     </g>\n    </g>\n    <g id=\"text_7\">\n     <!-- Lyric Length [characters] -->\n     <g transform=\"translate(158.371094 252.916562)scale(0.1 -0.1)\">\n      <defs>\n       <path id=\"DejaVuSans-4c\" d=\"M 628 4666 \nL 1259 4666 \nL 1259 531 \nL 3531 531 \nL 3531 0 \nL 628 0 \nL 628 4666 \nz\n\" transform=\"scale(0.015625)\"/>\n       <path id=\"DejaVuSans-79\" d=\"M 2059 -325 \nQ 1816 -950 1584 -1140 \nQ 1353 -1331 966 -1331 \nL 506 -1331 \nL 506 -850 \nL 844 -850 \nQ 1081 -850 1212 -737 \nQ 1344 -625 1503 -206 \nL 1606 56 \nL 191 3500 \nL 800 3500 \nL 1894 763 \nL 2988 3500 \nL 3597 3500 \nL 2059 -325 \nz\n\" transform=\"scale(0.015625)\"/>\n       <path id=\"DejaVuSans-72\" d=\"M 2631 2963 \nQ 2534 3019 2420 3045 \nQ 2306 3072 2169 3072 \nQ 1681 3072 1420 2755 \nQ 1159 2438 1159 1844 \nL 1159 0 \nL 581 0 \nL 581 3500 \nL 1159 3500 \nL 1159 2956 \nQ 1341 3275 1631 3429 \nQ 1922 3584 2338 3584 \nQ 2397 3584 2469 3576 \nQ 2541 3569 2628 3553 \nL 2631 2963 \nz\n\" transform=\"scale(0.015625)\"/>\n       <path id=\"DejaVuSans-69\" d=\"M 603 3500 \nL 1178 3500 \nL 1178 0 \nL 603 0 \nL 603 3500 \nz\nM 603 4863 \nL 1178 4863 \nL 1178 4134 \nL 603 4134 \nL 603 4863 \nz\n\" transform=\"scale(0.015625)\"/>\n       <path id=\"DejaVuSans-63\" d=\"M 3122 3366 \nL 3122 2828 \nQ 2878 2963 2633 3030 \nQ 2388 3097 2138 3097 \nQ 1578 3097 1268 2742 \nQ 959 2388 959 1747 \nQ 959 1106 1268 751 \nQ 1578 397 2138 397 \nQ 2388 397 2633 464 \nQ 2878 531 3122 666 \nL 3122 134 \nQ 2881 22 2623 -34 \nQ 2366 -91 2075 -91 \nQ 1284 -91 818 406 \nQ 353 903 353 1747 \nQ 353 2603 823 3093 \nQ 1294 3584 2113 3584 \nQ 2378 3584 2631 3529 \nQ 2884 3475 3122 3366 \nz\n\" transform=\"scale(0.015625)\"/>\n       <path id=\"DejaVuSans-20\" transform=\"scale(0.015625)\"/>\n       <path id=\"DejaVuSans-65\" d=\"M 3597 1894 \nL 3597 1613 \nL 953 1613 \nQ 991 1019 1311 708 \nQ 1631 397 2203 397 \nQ 2534 397 2845 478 \nQ 3156 559 3463 722 \nL 3463 178 \nQ 3153 47 2828 -22 \nQ 2503 -91 2169 -91 \nQ 1331 -91 842 396 \nQ 353 884 353 1716 \nQ 353 2575 817 3079 \nQ 1281 3584 2069 3584 \nQ 2775 3584 3186 3129 \nQ 3597 2675 3597 1894 \nz\nM 3022 2063 \nQ 3016 2534 2758 2815 \nQ 2500 3097 2075 3097 \nQ 1594 3097 1305 2825 \nQ 1016 2553 972 2059 \nL 3022 2063 \nz\n\" transform=\"scale(0.015625)\"/>\n       <path id=\"DejaVuSans-6e\" d=\"M 3513 2113 \nL 3513 0 \nL 2938 0 \nL 2938 2094 \nQ 2938 2591 2744 2837 \nQ 2550 3084 2163 3084 \nQ 1697 3084 1428 2787 \nQ 1159 2491 1159 1978 \nL 1159 0 \nL 581 0 \nL 581 3500 \nL 1159 3500 \nL 1159 2956 \nQ 1366 3272 1645 3428 \nQ 1925 3584 2291 3584 \nQ 2894 3584 3203 3211 \nQ 3513 2838 3513 2113 \nz\n\" transform=\"scale(0.015625)\"/>\n       <path id=\"DejaVuSans-67\" d=\"M 2906 1791 \nQ 2906 2416 2648 2759 \nQ 2391 3103 1925 3103 \nQ 1463 3103 1205 2759 \nQ 947 2416 947 1791 \nQ 947 1169 1205 825 \nQ 1463 481 1925 481 \nQ 2391 481 2648 825 \nQ 2906 1169 2906 1791 \nz\nM 3481 434 \nQ 3481 -459 3084 -895 \nQ 2688 -1331 1869 -1331 \nQ 1566 -1331 1297 -1286 \nQ 1028 -1241 775 -1147 \nL 775 -588 \nQ 1028 -725 1275 -790 \nQ 1522 -856 1778 -856 \nQ 2344 -856 2625 -561 \nQ 2906 -266 2906 331 \nL 2906 616 \nQ 2728 306 2450 153 \nQ 2172 0 1784 0 \nQ 1141 0 747 490 \nQ 353 981 353 1791 \nQ 353 2603 747 3093 \nQ 1141 3584 1784 3584 \nQ 2172 3584 2450 3431 \nQ 2728 3278 2906 2969 \nL 2906 3500 \nL 3481 3500 \nL 3481 434 \nz\n\" transform=\"scale(0.015625)\"/>\n       <path id=\"DejaVuSans-74\" d=\"M 1172 4494 \nL 1172 3500 \nL 2356 3500 \nL 2356 3053 \nL 1172 3053 \nL 1172 1153 \nQ 1172 725 1289 603 \nQ 1406 481 1766 481 \nL 2356 481 \nL 2356 0 \nL 1766 0 \nQ 1100 0 847 248 \nQ 594 497 594 1153 \nL 594 3053 \nL 172 3053 \nL 172 3500 \nL 594 3500 \nL 594 4494 \nL 1172 4494 \nz\n\" transform=\"scale(0.015625)\"/>\n       <path id=\"DejaVuSans-68\" d=\"M 3513 2113 \nL 3513 0 \nL 2938 0 \nL 2938 2094 \nQ 2938 2591 2744 2837 \nQ 2550 3084 2163 3084 \nQ 1697 3084 1428 2787 \nQ 1159 2491 1159 1978 \nL 1159 0 \nL 581 0 \nL 581 4863 \nL 1159 4863 \nL 1159 2956 \nQ 1366 3272 1645 3428 \nQ 1925 3584 2291 3584 \nQ 2894 3584 3203 3211 \nQ 3513 2838 3513 2113 \nz\n\" transform=\"scale(0.015625)\"/>\n       <path id=\"DejaVuSans-5b\" d=\"M 550 4863 \nL 1875 4863 \nL 1875 4416 \nL 1125 4416 \nL 1125 -397 \nL 1875 -397 \nL 1875 -844 \nL 550 -844 \nL 550 4863 \nz\n\" transform=\"scale(0.015625)\"/>\n       <path id=\"DejaVuSans-61\" d=\"M 2194 1759 \nQ 1497 1759 1228 1600 \nQ 959 1441 959 1056 \nQ 959 750 1161 570 \nQ 1363 391 1709 391 \nQ 2188 391 2477 730 \nQ 2766 1069 2766 1631 \nL 2766 1759 \nL 2194 1759 \nz\nM 3341 1997 \nL 3341 0 \nL 2766 0 \nL 2766 531 \nQ 2569 213 2275 61 \nQ 1981 -91 1556 -91 \nQ 1019 -91 701 211 \nQ 384 513 384 1019 \nQ 384 1609 779 1909 \nQ 1175 2209 1959 2209 \nL 2766 2209 \nL 2766 2266 \nQ 2766 2663 2505 2880 \nQ 2244 3097 1772 3097 \nQ 1472 3097 1187 3025 \nQ 903 2953 641 2809 \nL 641 3341 \nQ 956 3463 1253 3523 \nQ 1550 3584 1831 3584 \nQ 2591 3584 2966 3190 \nQ 3341 2797 3341 1997 \nz\n\" transform=\"scale(0.015625)\"/>\n       <path id=\"DejaVuSans-73\" d=\"M 2834 3397 \nL 2834 2853 \nQ 2591 2978 2328 3040 \nQ 2066 3103 1784 3103 \nQ 1356 3103 1142 2972 \nQ 928 2841 928 2578 \nQ 928 2378 1081 2264 \nQ 1234 2150 1697 2047 \nL 1894 2003 \nQ 2506 1872 2764 1633 \nQ 3022 1394 3022 966 \nQ 3022 478 2636 193 \nQ 2250 -91 1575 -91 \nQ 1294 -91 989 -36 \nQ 684 19 347 128 \nL 347 722 \nQ 666 556 975 473 \nQ 1284 391 1588 391 \nQ 1994 391 2212 530 \nQ 2431 669 2431 922 \nQ 2431 1156 2273 1281 \nQ 2116 1406 1581 1522 \nL 1381 1569 \nQ 847 1681 609 1914 \nQ 372 2147 372 2553 \nQ 372 3047 722 3315 \nQ 1072 3584 1716 3584 \nQ 2034 3584 2315 3537 \nQ 2597 3491 2834 3397 \nz\n\" transform=\"scale(0.015625)\"/>\n       <path id=\"DejaVuSans-5d\" d=\"M 1947 4863 \nL 1947 -844 \nL 622 -844 \nL 622 -397 \nL 1369 -397 \nL 1369 4416 \nL 622 4416 \nL 622 4863 \nL 1947 4863 \nz\n\" transform=\"scale(0.015625)\"/>\n      </defs>\n      <use xlink:href=\"#DejaVuSans-4c\"/>\n      <use xlink:href=\"#DejaVuSans-79\" x=\"46.587891\"/>\n      <use xlink:href=\"#DejaVuSans-72\" x=\"105.767578\"/>\n      <use xlink:href=\"#DejaVuSans-69\" x=\"146.880859\"/>\n      <use xlink:href=\"#DejaVuSans-63\" x=\"174.664062\"/>\n      <use xlink:href=\"#DejaVuSans-20\" x=\"229.644531\"/>\n      <use xlink:href=\"#DejaVuSans-4c\" x=\"261.431641\"/>\n      <use xlink:href=\"#DejaVuSans-65\" x=\"315.394531\"/>\n      <use xlink:href=\"#DejaVuSans-6e\" x=\"376.917969\"/>\n      <use xlink:href=\"#DejaVuSans-67\" x=\"440.296875\"/>\n      <use xlink:href=\"#DejaVuSans-74\" x=\"503.773438\"/>\n      <use xlink:href=\"#DejaVuSans-68\" x=\"542.982422\"/>\n      <use xlink:href=\"#DejaVuSans-20\" x=\"606.361328\"/>\n      <use xlink:href=\"#DejaVuSans-5b\" x=\"638.148438\"/>\n      <use xlink:href=\"#DejaVuSans-63\" x=\"677.162109\"/>\n      <use xlink:href=\"#DejaVuSans-68\" x=\"732.142578\"/>\n      <use xlink:href=\"#DejaVuSans-61\" x=\"795.521484\"/>\n      <use xlink:href=\"#DejaVuSans-72\" x=\"856.800781\"/>\n      <use xlink:href=\"#DejaVuSans-61\" x=\"897.914062\"/>\n      <use xlink:href=\"#DejaVuSans-63\" x=\"959.193359\"/>\n      <use xlink:href=\"#DejaVuSans-74\" x=\"1014.173828\"/>\n      <use xlink:href=\"#DejaVuSans-65\" x=\"1053.382812\"/>\n      <use xlink:href=\"#DejaVuSans-72\" x=\"1114.90625\"/>\n      <use xlink:href=\"#DejaVuSans-73\" x=\"1156.019531\"/>\n      <use xlink:href=\"#DejaVuSans-5d\" x=\"1208.119141\"/>\n     </g>\n    </g>\n   </g>\n   <g id=\"matplotlib.axis_2\">\n    <g id=\"ytick_1\">\n     <g id=\"line2d_7\">\n      <defs>\n       <path id=\"m255003fe21\" d=\"M 0 0 \nL -3.5 0 \n\" style=\"stroke: #000000; stroke-width: 0.8\"/>\n      </defs>\n      <g>\n       <use xlink:href=\"#m255003fe21\" x=\"53.328125\" y=\"224.64\" style=\"stroke: #000000; stroke-width: 0.8\"/>\n      </g>\n     </g>\n     <g id=\"text_8\">\n      <!-- 0 -->\n      <g transform=\"translate(39.965625 228.439219)scale(0.1 -0.1)\">\n       <use xlink:href=\"#DejaVuSans-30\"/>\n      </g>\n     </g>\n    </g>\n    <g id=\"ytick_2\">\n     <g id=\"line2d_8\">\n      <g>\n       <use xlink:href=\"#m255003fe21\" x=\"53.328125\" y=\"185.225132\" style=\"stroke: #000000; stroke-width: 0.8\"/>\n      </g>\n     </g>\n     <g id=\"text_9\">\n      <!-- 500 -->\n      <g transform=\"translate(27.240625 189.024351)scale(0.1 -0.1)\">\n       <defs>\n        <path id=\"DejaVuSans-35\" d=\"M 691 4666 \nL 3169 4666 \nL 3169 4134 \nL 1269 4134 \nL 1269 2991 \nQ 1406 3038 1543 3061 \nQ 1681 3084 1819 3084 \nQ 2600 3084 3056 2656 \nQ 3513 2228 3513 1497 \nQ 3513 744 3044 326 \nQ 2575 -91 1722 -91 \nQ 1428 -91 1123 -41 \nQ 819 9 494 109 \nL 494 744 \nQ 775 591 1075 516 \nQ 1375 441 1709 441 \nQ 2250 441 2565 725 \nQ 2881 1009 2881 1497 \nQ 2881 1984 2565 2268 \nQ 2250 2553 1709 2553 \nQ 1456 2553 1204 2497 \nQ 953 2441 691 2322 \nL 691 4666 \nz\n\" transform=\"scale(0.015625)\"/>\n       </defs>\n       <use xlink:href=\"#DejaVuSans-35\"/>\n       <use xlink:href=\"#DejaVuSans-30\" x=\"63.623047\"/>\n       <use xlink:href=\"#DejaVuSans-30\" x=\"127.246094\"/>\n      </g>\n     </g>\n    </g>\n    <g id=\"ytick_3\">\n     <g id=\"line2d_9\">\n      <g>\n       <use xlink:href=\"#m255003fe21\" x=\"53.328125\" y=\"145.810265\" style=\"stroke: #000000; stroke-width: 0.8\"/>\n      </g>\n     </g>\n     <g id=\"text_10\">\n      <!-- 1000 -->\n      <g transform=\"translate(20.878125 149.609484)scale(0.1 -0.1)\">\n       <use xlink:href=\"#DejaVuSans-31\"/>\n       <use xlink:href=\"#DejaVuSans-30\" x=\"63.623047\"/>\n       <use xlink:href=\"#DejaVuSans-30\" x=\"127.246094\"/>\n       <use xlink:href=\"#DejaVuSans-30\" x=\"190.869141\"/>\n      </g>\n     </g>\n    </g>\n    <g id=\"ytick_4\">\n     <g id=\"line2d_10\">\n      <g>\n       <use xlink:href=\"#m255003fe21\" x=\"53.328125\" y=\"106.395397\" style=\"stroke: #000000; stroke-width: 0.8\"/>\n      </g>\n     </g>\n     <g id=\"text_11\">\n      <!-- 1500 -->\n      <g transform=\"translate(20.878125 110.194616)scale(0.1 -0.1)\">\n       <use xlink:href=\"#DejaVuSans-31\"/>\n       <use xlink:href=\"#DejaVuSans-35\" x=\"63.623047\"/>\n       <use xlink:href=\"#DejaVuSans-30\" x=\"127.246094\"/>\n       <use xlink:href=\"#DejaVuSans-30\" x=\"190.869141\"/>\n      </g>\n     </g>\n    </g>\n    <g id=\"ytick_5\">\n     <g id=\"line2d_11\">\n      <g>\n       <use xlink:href=\"#m255003fe21\" x=\"53.328125\" y=\"66.98053\" style=\"stroke: #000000; stroke-width: 0.8\"/>\n      </g>\n     </g>\n     <g id=\"text_12\">\n      <!-- 2000 -->\n      <g transform=\"translate(20.878125 70.779748)scale(0.1 -0.1)\">\n       <use xlink:href=\"#DejaVuSans-32\"/>\n       <use xlink:href=\"#DejaVuSans-30\" x=\"63.623047\"/>\n       <use xlink:href=\"#DejaVuSans-30\" x=\"127.246094\"/>\n       <use xlink:href=\"#DejaVuSans-30\" x=\"190.869141\"/>\n      </g>\n     </g>\n    </g>\n    <g id=\"ytick_6\">\n     <g id=\"line2d_12\">\n      <g>\n       <use xlink:href=\"#m255003fe21\" x=\"53.328125\" y=\"27.565662\" style=\"stroke: #000000; stroke-width: 0.8\"/>\n      </g>\n     </g>\n     <g id=\"text_13\">\n      <!-- 2500 -->\n      <g transform=\"translate(20.878125 31.364881)scale(0.1 -0.1)\">\n       <use xlink:href=\"#DejaVuSans-32\"/>\n       <use xlink:href=\"#DejaVuSans-35\" x=\"63.623047\"/>\n       <use xlink:href=\"#DejaVuSans-30\" x=\"127.246094\"/>\n       <use xlink:href=\"#DejaVuSans-30\" x=\"190.869141\"/>\n      </g>\n     </g>\n    </g>\n    <g id=\"text_14\">\n     <!-- Frequency -->\n     <g transform=\"translate(14.798438 141.749687)rotate(-90)scale(0.1 -0.1)\">\n      <defs>\n       <path id=\"DejaVuSans-46\" d=\"M 628 4666 \nL 3309 4666 \nL 3309 4134 \nL 1259 4134 \nL 1259 2759 \nL 3109 2759 \nL 3109 2228 \nL 1259 2228 \nL 1259 0 \nL 628 0 \nL 628 4666 \nz\n\" transform=\"scale(0.015625)\"/>\n       <path id=\"DejaVuSans-71\" d=\"M 947 1747 \nQ 947 1113 1208 752 \nQ 1469 391 1925 391 \nQ 2381 391 2643 752 \nQ 2906 1113 2906 1747 \nQ 2906 2381 2643 2742 \nQ 2381 3103 1925 3103 \nQ 1469 3103 1208 2742 \nQ 947 2381 947 1747 \nz\nM 2906 525 \nQ 2725 213 2448 61 \nQ 2172 -91 1784 -91 \nQ 1150 -91 751 415 \nQ 353 922 353 1747 \nQ 353 2572 751 3078 \nQ 1150 3584 1784 3584 \nQ 2172 3584 2448 3432 \nQ 2725 3281 2906 2969 \nL 2906 3500 \nL 3481 3500 \nL 3481 -1331 \nL 2906 -1331 \nL 2906 525 \nz\n\" transform=\"scale(0.015625)\"/>\n       <path id=\"DejaVuSans-75\" d=\"M 544 1381 \nL 544 3500 \nL 1119 3500 \nL 1119 1403 \nQ 1119 906 1312 657 \nQ 1506 409 1894 409 \nQ 2359 409 2629 706 \nQ 2900 1003 2900 1516 \nL 2900 3500 \nL 3475 3500 \nL 3475 0 \nL 2900 0 \nL 2900 538 \nQ 2691 219 2414 64 \nQ 2138 -91 1772 -91 \nQ 1169 -91 856 284 \nQ 544 659 544 1381 \nz\nM 1991 3584 \nL 1991 3584 \nz\n\" transform=\"scale(0.015625)\"/>\n      </defs>\n      <use xlink:href=\"#DejaVuSans-46\"/>\n      <use xlink:href=\"#DejaVuSans-72\" x=\"50.269531\"/>\n      <use xlink:href=\"#DejaVuSans-65\" x=\"89.132812\"/>\n      <use xlink:href=\"#DejaVuSans-71\" x=\"150.65625\"/>\n      <use xlink:href=\"#DejaVuSans-75\" x=\"214.132812\"/>\n      <use xlink:href=\"#DejaVuSans-65\" x=\"277.511719\"/>\n      <use xlink:href=\"#DejaVuSans-6e\" x=\"339.035156\"/>\n      <use xlink:href=\"#DejaVuSans-63\" x=\"402.414062\"/>\n      <use xlink:href=\"#DejaVuSans-79\" x=\"457.394531\"/>\n     </g>\n    </g>\n   </g>\n   <g id=\"patch_103\">\n    <path d=\"M 53.328125 224.64 \nL 53.328125 7.2 \n\" style=\"fill: none; stroke: #000000; stroke-width: 0.8; stroke-linejoin: miter; stroke-linecap: square\"/>\n   </g>\n   <g id=\"patch_104\">\n    <path d=\"M 388.128125 224.64 \nL 388.128125 7.2 \n\" style=\"fill: none; stroke: #000000; stroke-width: 0.8; stroke-linejoin: miter; stroke-linecap: square\"/>\n   </g>\n   <g id=\"patch_105\">\n    <path d=\"M 53.328125 224.64 \nL 388.128125 224.64 \n\" style=\"fill: none; stroke: #000000; stroke-width: 0.8; stroke-linejoin: miter; stroke-linecap: square\"/>\n   </g>\n   <g id=\"patch_106\">\n    <path d=\"M 53.328125 7.2 \nL 388.128125 7.2 \n\" style=\"fill: none; stroke: #000000; stroke-width: 0.8; stroke-linejoin: miter; stroke-linecap: square\"/>\n   </g>\n  </g>\n </g>\n <defs>\n  <clipPath id=\"p1fda3b129a\">\n   <rect x=\"53.328125\" y=\"7.2\" width=\"334.8\" height=\"217.44\"/>\n  </clipPath>\n </defs>\n</svg>\n",
      "text/plain": [
       "<Figure size 432x288 with 1 Axes>"
      ]
     },
     "metadata": {
      "needs_background": "light"
     },
     "output_type": "display_data"
    }
   ],
   "source": [
    "lyric_lengths = Counter()\n",
    "for song_data in lyrics_cache:\n",
    "    for artist_name, artist_id, song, lyric in song_data:\n",
    "        if lyric is not None and lyric != \"FAILED\" and len(lyric.lyrics) < 10000:\n",
    "            lyric_lengths[lyric] = len(lyric.lyrics)\n",
    "plt.hist(lyric_lengths.values(), bins=100)\n",
    "plt.xlabel(\"Lyric Length [characters]\")\n",
    "plt.ylabel(\"Frequency\")\n",
    "plt.show()"
   ]
  },
  {
   "cell_type": "markdown",
   "metadata": {},
   "source": [
    "The mean length of lyrics seems to be around 1600 characters."
   ]
  },
  {
   "cell_type": "markdown",
   "metadata": {},
   "source": [
    "# 4. Tools, Theory and Analysis"
   ]
  },
  {
   "cell_type": "markdown",
   "metadata": {},
   "source": [
    "## 4.1. General Sentiment Analysis"
   ]
  },
  {
   "cell_type": "markdown",
   "metadata": {},
   "source": [
    "## 4.2. Moving Average Sentiment Analysis"
   ]
  },
  {
   "cell_type": "markdown",
   "metadata": {},
   "source": [
    "## 4.3. Community Detection and Modularity"
   ]
  },
  {
   "cell_type": "markdown",
   "metadata": {},
   "source": [
    "## 4.5. Word Clouds and Most Relevant Words"
   ]
  },
  {
   "cell_type": "markdown",
   "metadata": {},
   "source": [
    "# 5. Discussion"
   ]
  },
  {
   "cell_type": "markdown",
   "metadata": {},
   "source": [
    "## 5.1. Related Aratists\n",
    "## 5.2. Language Issue\n",
    "## 5.3. Algorithmically Confoundedness\n",
    "## 5.4. Missing and crowdsourced Data"
   ]
  },
  {
   "cell_type": "markdown",
   "metadata": {},
   "source": [
    "# 6. References\n",
    "\n",
    "[1] Lui, Marco and Timothy Baldwin (2011) Cross-domain Feature Selection for Language Identification, In Proceedings of the Fifth International Joint Conference on Natural Language Processing (IJCNLP 2011), Chiang Mai, Thailand, pp. 553—561. Available from http://www.aclweb.org/anthology/I11-1062\n",
    "\n",
    "[2] Dodds, Peter Sheridan, Kameron Decker Harris, Isabel M. Kloumann, Catherine A. Bliss, and Christopher M. Danforth. \"Temporal patterns of happiness and information in a global social network: Hedonometrics and Twitter.\" PLoS ONE 6, no. 12 (2011). https://github.com/ryanjgallagher/shifterator/tree/master/shifterator/lexicons/labMT\n",
    "\n",
    "[3] Dodds, Peter Sheridan, Eric M. Clark, Suma Desu, Morgan R. Frank, Andrew J. Reagan, Jake Ryland Williams, Lewis Mitchell et al. \"Human language reveals a universal positivity bias.\" Proceedings of the National Academy of Sciences 112, no. 8 (2015): 2389-2394. https://github.com/ryanjgallagher/shifterator/tree/master/shifterator/lexicons/labMT\n",
    "\n",
    "[4] Eunjeong L. Park, Sungzoon Cho. “KoNLPy: Korean natural language processing in Python”, Proceedings of the 26th Annual Conference on Human & Cognitive Language Technology, Chuncheon, Korea, Oct 2014. https://konlpy.org/en/latest/#\n",
    "\n",
    "[5] Will Hohyon Ryu, Open Korean Text. https://github.com/open-korean-text/open-korean-text\n",
    "\n",
    "[6] Bird, Steven, Edward Loper and Ewan Klein (2009).\n",
    "Natural Language Processing with Python.  O'Reilly Media Inc. https://github.com/nltk/nltk"
   ]
  }
 ],
 "metadata": {
  "kernelspec": {
   "display_name": "Python 3.8.3",
   "language": "python",
   "name": "python3"
  },
  "language_info": {
   "codemirror_mode": {
    "name": "ipython",
    "version": 3
   },
   "file_extension": ".py",
   "mimetype": "text/x-python",
   "name": "python",
   "nbconvert_exporter": "python",
   "pygments_lexer": "ipython3",
   "version": "3.8.3"
  },
  "orig_nbformat": 4,
  "vscode": {
   "interpreter": {
    "hash": "6ba0af6ca18a87fd9d9a83a0a83c49166e2958272ee4ed49414730c2cc63cbf0"
   }
  }
 },
 "nbformat": 4,
 "nbformat_minor": 2
}
