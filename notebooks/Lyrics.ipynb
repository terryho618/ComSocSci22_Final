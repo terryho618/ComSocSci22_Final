{
 "cells": [
  {
   "cell_type": "code",
   "execution_count": 1,
   "metadata": {},
   "outputs": [],
   "source": [
    "from time import sleep\n",
    "from typing import Tuple\n",
    "import tekore as tk\n",
    "import re\n",
    "import urllib\n",
    "from datetime import datetime\n",
    "import pickle\n",
    "from tqdm import tqdm\n",
    "ARABIAN_DECIMAL_SEPARATOR = \"\\N{ARABIC DECIMAL SEPARATOR}\"\n",
    "class Song:\n",
    "\n",
    "    def __init__(self, ts, title, artists, id):\n",
    "        self.title = title\n",
    "        self.artists_raw = list(artists)\n",
    "        self.artists = \", \".join(self.artists_raw).replace(ARABIAN_DECIMAL_SEPARATOR, ',')\n",
    "        self.id = id\n",
    "        self.ts = datetime.utcfromtimestamp(int(ts))\n",
    "        self.a_n_t = f\"{self.artists} - {self.title}\"\n",
    "\n",
    "    def __str__(self):\n",
    "        return self.a_n_t\n",
    "\n",
    "    def __repr__(self):\n",
    "        return str(self)\n",
    "\n",
    "    def __hash__(self):\n",
    "        return hash(self.__repr__())\n",
    "\n",
    "    def __eq__(self, other):\n",
    "        return self.a_n_t.lower() == other.a_n_t.lower() or self.id == other.id\n",
    "\n",
    "def song_from_track(t):\n",
    "    return Song(0, t.name, map(lambda x: x.name, t.artists), t.id)\n",
    "\n",
    "def get_site(URL):\n",
    "    #print(\"Loading...\")\n",
    "    html = ''\n",
    "    try:\n",
    "        html = urllib.request.urlopen(URL).read()\n",
    "    except Exception as e:\n",
    "        print(\"Unexpected Error: \", e, \" with url: \", URL)\n",
    "    #print(\"Done.\")\n",
    "    return html\n",
    "\n",
    "\n",
    "def getGenresOfName(artist_name: str):\n",
    "    URL = f\"http://everynoise.com/lookup.cgi?who={urllib.parse.quote(artist_name)}\"\n",
    "    html = str(get_site(URL))\n",
    "    genres = re.findall('t>([A-z0-9- ]*)<', html)\n",
    "    return genres\n",
    "\n",
    "def getTop10Tracks(artist_id: str):\n",
    "    return [song_from_track(t) for t in spotify.artist_top_tracks(artist_id, \"US\")]\n",
    "\n",
    "def getTopNLyrics(artist_info: Tuple[str, str], n: int = 10):\n",
    "    artist_name, artist_id = artist_info\n",
    "    lyrics = []\n",
    "    for song in getTop10Tracks(artist_id)[:n]:\n",
    "        try:\n",
    "            song_lyrics = genius.search_song(song.title, artist_name, get_full_info=False)\n",
    "            sleep(0.5)\n",
    "            lyrics.append((artist_name, artist_id, song, song_lyrics))\n",
    "        except Exception as e:\n",
    "            sleep(2.0)\n",
    "            lyrics.append((artist_name, artist_id, song, \"FAILED\"))\n",
    "            print(e)\n",
    "    return lyrics"
   ]
  },
  {
   "cell_type": "code",
   "execution_count": 2,
   "metadata": {},
   "outputs": [],
   "source": [
    "conf = tk.config_from_file(\"../tekore.conf\", return_refresh=True)\n",
    "client_id, client_secret, redirect_uri, user_refresh = conf\n",
    "token = tk.refresh_user_token(client_id, client_secret, user_refresh)\n",
    "sender = tk.RetryingSender(sender=tk.SyncSender())\n",
    "spotify = tk.Spotify(token, sender=sender, max_limits_on=True, chunked_on=True)"
   ]
  },
  {
   "cell_type": "code",
   "execution_count": 3,
   "metadata": {},
   "outputs": [],
   "source": [
    "with open(\"../artist_data_pickle.pth\", \"rb\") as f:\n",
    "    artists = pickle.load(f)\n",
    "    \n",
    "#remove artists with id = None\n",
    "for name, data in list(artists.items()):\n",
    "    if data[\"id\"] is None:\n",
    "        artists.pop(name)"
   ]
  },
  {
   "cell_type": "code",
   "execution_count": 4,
   "metadata": {},
   "outputs": [],
   "source": [
    "from lyricsgenius import Genius\n",
    "\n",
    "genius = Genius()\n",
    "genius.verbose = False\n",
    "genius.skip_non_songs = True"
   ]
  },
  {
   "cell_type": "code",
   "execution_count": 5,
   "metadata": {},
   "outputs": [],
   "source": [
    "#Threading\n",
    "from multiprocessing.pool import ThreadPool as Pool\n",
    "from functools import partial\n",
    "\n",
    "NUM_TOP_SONGS = 1\n",
    "\n",
    "try:\n",
    "    with open(f\"lyrics_cache_top{NUM_TOP_SONGS}.pkl\", \"rb\") as f:\n",
    "        lyrics_cache = pickle.load(f)\n",
    "except:\n",
    "    lyrics_cache = []\n",
    "\n",
    "updated_artists = set()\n",
    "for line in lyrics_cache:\n",
    "    for _, artist_id, _, song_lyrics in line:\n",
    "        if song_lyrics != \"FAILED\":\n",
    "            updated_artists.add(artist_id)\n",
    "    \n",
    "artists_to_update = {}\n",
    "for name, data in artists.items():\n",
    "    if data[\"id\"] in updated_artists:\n",
    "        continue\n",
    "    artists_to_update[name] = data"
   ]
  },
  {
   "cell_type": "code",
   "execution_count": 6,
   "metadata": {},
   "outputs": [
    {
     "data": {
      "text/plain": [
       "3730"
      ]
     },
     "execution_count": 6,
     "metadata": {},
     "output_type": "execute_result"
    }
   ],
   "source": [
    "len(artists_to_update)"
   ]
  },
  {
   "cell_type": "code",
   "execution_count": 7,
   "metadata": {},
   "outputs": [
    {
     "name": "stderr",
     "output_type": "stream",
     "text": [
      "  0%|          | 0/26523 [00:00<?, ?it/s]"
     ]
    },
    {
     "name": "stdout",
     "output_type": "stream",
     "text": [
      "Request timed out:\n",
      "HTTPSConnectionPool(host='genius.com', port=443): Read timed out. (read timeout=5)\n",
      "Request timed out:\n",
      "HTTPSConnectionPool(host='genius.com', port=443): Read timed out. (read timeout=5)\n",
      "Request timed out:\n",
      "HTTPSConnectionPool(host='genius.com', port=443): Read timed out. (read timeout=5)\n",
      "Request timed out:\n",
      "HTTPSConnectionPool(host='genius.com', port=443): Read timed out. (read timeout=5)\n",
      "Request timed out:\n",
      "HTTPSConnectionPool(host='genius.com', port=443): Read timed out. (read timeout=5)\n",
      "Request timed out:\n",
      "HTTPSConnectionPool(host='genius.com', port=443): Read timed out. (read timeout=5)\n",
      "Request timed out:\n",
      "HTTPSConnectionPool(host='genius.com', port=443): Read timed out. (read timeout=5)\n"
     ]
    },
    {
     "name": "stderr",
     "output_type": "stream",
     "text": [
      "  4%|▍         | 1000/26523 [02:15<57:36,  7.38it/s]"
     ]
    },
    {
     "name": "stdout",
     "output_type": "stream",
     "text": [
      "Request timed out:\n",
      "HTTPSConnectionPool(host='genius.com', port=443): Read timed out. (read timeout=5)\n",
      "Request timed out:\n",
      "HTTPSConnectionPool(host='genius.com', port=443): Read timed out. (read timeout=5)\n",
      "Request timed out:\n",
      "HTTPSConnectionPool(host='genius.com', port=443): Read timed out. (read timeout=5)\n",
      "Request timed out:\n",
      "HTTPSConnectionPool(host='genius.com', port=443): Read timed out. (read timeout=5)\n",
      "Request timed out:\n",
      "HTTPSConnectionPool(host='genius.com', port=443): Read timed out. (read timeout=5)\n",
      "Request timed out:\n",
      "HTTPSConnectionPool(host='genius.com', port=443): Read timed out. (read timeout=5)\n",
      "Request timed out:\n",
      "HTTPSConnectionPool(host='genius.com', port=443): Read timed out. (read timeout=5)\n",
      "Request timed out:\n",
      "HTTPSConnectionPool(host='genius.com', port=443): Read timed out. (read timeout=5)\n",
      "Request timed out:\n",
      "HTTPSConnectionPool(host='genius.com', port=443): Read timed out. (read timeout=5)\n",
      "Request timed out:\n",
      "HTTPSConnectionPool(host='genius.com', port=443): Read timed out. (read timeout=5)\n",
      "Request timed out:\n",
      "HTTPSConnectionPool(host='genius.com', port=443): Read timed out. (read timeout=5)\n",
      "Request timed out:\n",
      "HTTPSConnectionPool(host='genius.com', port=443): Read timed out. (read timeout=5)\n",
      "Request timed out:\n",
      "HTTPSConnectionPool(host='genius.com', port=443): Read timed out. (read timeout=5)\n",
      "Request timed out:\n",
      "HTTPSConnectionPool(host='genius.com', port=443): Read timed out. (read timeout=5)\n",
      "Request timed out:\n",
      "HTTPSConnectionPool(host='genius.com', port=443): Read timed out. (read timeout=5)\n"
     ]
    },
    {
     "name": "stderr",
     "output_type": "stream",
     "text": [
      " 19%|█▉        | 5000/26523 [09:55<40:37,  8.83it/s]"
     ]
    },
    {
     "name": "stdout",
     "output_type": "stream",
     "text": [
      "Request timed out:\n",
      "HTTPSConnectionPool(host='genius.com', port=443): Read timed out. (read timeout=5)\n"
     ]
    },
    {
     "name": "stderr",
     "output_type": "stream",
     "text": [
      " 41%|████▏     | 11000/26523 [20:56<28:42,  9.01it/s]"
     ]
    },
    {
     "name": "stdout",
     "output_type": "stream",
     "text": [
      "Request timed out:\n",
      "HTTPSConnectionPool(host='genius.com', port=443): Read timed out. (read timeout=5)\n"
     ]
    },
    {
     "name": "stderr",
     "output_type": "stream",
     "text": [
      " 68%|██████▊   | 18000/26523 [33:43<15:32,  9.14it/s]"
     ]
    },
    {
     "name": "stdout",
     "output_type": "stream",
     "text": [
      "Request timed out:\n",
      "HTTPSConnectionPool(host='genius.com', port=443): Read timed out. (read timeout=5)\n"
     ]
    },
    {
     "name": "stderr",
     "output_type": "stream",
     "text": [
      " 72%|███████▏  | 19000/26523 [35:30<13:36,  9.21it/s]"
     ]
    },
    {
     "name": "stdout",
     "output_type": "stream",
     "text": [
      "Request timed out:\n",
      "HTTPSConnectionPool(host='genius.com', port=443): Read timed out. (read timeout=5)\n"
     ]
    },
    {
     "name": "stderr",
     "output_type": "stream",
     "text": [
      " 79%|███████▉  | 21000/26523 [39:12<10:06,  9.11it/s]"
     ]
    },
    {
     "name": "stdout",
     "output_type": "stream",
     "text": [
      "Request timed out:\n",
      "HTTPSConnectionPool(host='genius.com', port=443): Read timed out. (read timeout=5)\n"
     ]
    },
    {
     "name": "stderr",
     "output_type": "stream",
     "text": [
      " 83%|████████▎ | 22000/26523 [41:00<08:14,  9.15it/s]"
     ]
    },
    {
     "name": "stdout",
     "output_type": "stream",
     "text": [
      "Request timed out:\n",
      "HTTPSConnectionPool(host='genius.com', port=443): Read timed out. (read timeout=5)\n"
     ]
    },
    {
     "name": "stderr",
     "output_type": "stream",
     "text": [
      "27000it [49:15,  9.14it/s]                           \n"
     ]
    }
   ],
   "source": [
    "def getLyrics(from_idx, to_idx):\n",
    "    #top 1\n",
    "    return pool.map(partial(getTopNLyrics, n=NUM_TOP_SONGS), [(name, data[\"id\"]) for name, data in list(artists_to_update.items())[from_idx:to_idx]])\n",
    "\n",
    "#Load the lyrics 1000 at a time and cache inbetween\n",
    "with tqdm(total=len(artists_to_update)) as pbar:\n",
    "    for i in range(0, len(artists_to_update), 1000):\n",
    "        with Pool(processes=12) as pool:\n",
    "            lyrics_cache.extend(getLyrics(i, i+1000))\n",
    "            pbar.update(1000)\n",
    "            with open(f\"lyrics_cache_top{NUM_TOP_SONGS}.pkl\", \"wb\") as f:\n",
    "                pickle.dump(lyrics_cache, f)"
   ]
  },
  {
   "cell_type": "code",
   "execution_count": null,
   "metadata": {},
   "outputs": [],
   "source": []
  }
 ],
 "metadata": {
  "interpreter": {
   "hash": "6ba0af6ca18a87fd9d9a83a0a83c49166e2958272ee4ed49414730c2cc63cbf0"
  },
  "kernelspec": {
   "display_name": "Python 3.8.3",
   "language": "python",
   "name": "python3"
  },
  "language_info": {
   "codemirror_mode": {
    "name": "ipython",
    "version": 3
   },
   "file_extension": ".py",
   "mimetype": "text/x-python",
   "name": "python",
   "nbconvert_exporter": "python",
   "pygments_lexer": "ipython3",
   "version": "3.8.3"
  },
  "orig_nbformat": 4
 },
 "nbformat": 4,
 "nbformat_minor": 2
}
